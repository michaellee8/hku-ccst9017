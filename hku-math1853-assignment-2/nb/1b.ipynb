{
 "cells": [
  {
   "cell_type": "code",
   "execution_count": 1,
   "metadata": {},
   "outputs": [],
   "source": [
    "from sympy import *\n",
    "from sympy.solvers.solveset import linsolve\n",
    "init_printing(use_latex='mathjax')\n",
    "lamda,a,b = symbols('lambda a b')"
   ]
  },
  {
   "cell_type": "code",
   "execution_count": 2,
   "metadata": {},
   "outputs": [
    {
     "data": {
      "text/latex": [
       "$$\\left[\\begin{matrix}a & - b\\\\b & a\\end{matrix}\\right]$$"
      ],
      "text/plain": [
       "⎡a  -b⎤\n",
       "⎢     ⎥\n",
       "⎣b  a ⎦"
      ]
     },
     "execution_count": 2,
     "metadata": {},
     "output_type": "execute_result"
    }
   ],
   "source": [
    "B = Matrix([[a,-b],[b,a]])\n",
    "B"
   ]
  },
  {
   "cell_type": "code",
   "execution_count": 3,
   "metadata": {},
   "outputs": [
    {
     "data": {
      "text/latex": [
       "$$\\left [ \\left ( a - i b, \\quad 1, \\quad \\left [ \\left[\\begin{matrix}- i\\\\1\\end{matrix}\\right]\\right ]\\right ), \\quad \\left ( a + i b, \\quad 1, \\quad \\left [ \\left[\\begin{matrix}i\\\\1\\end{matrix}\\right]\\right ]\\right )\\right ]$$"
      ],
      "text/plain": [
       "⎡⎛            ⎡⎡-ⅈ⎤⎤⎞  ⎛            ⎡⎡ⅈ⎤⎤⎞⎤\n",
       "⎢⎜a - ⅈ⋅b, 1, ⎢⎢  ⎥⎥⎟, ⎜a + ⅈ⋅b, 1, ⎢⎢ ⎥⎥⎟⎥\n",
       "⎣⎝            ⎣⎣1 ⎦⎦⎠  ⎝            ⎣⎣1⎦⎦⎠⎦"
      ]
     },
     "execution_count": 3,
     "metadata": {},
     "output_type": "execute_result"
    }
   ],
   "source": [
    "B.eigenvects()"
   ]
  },
  {
   "cell_type": "code",
   "execution_count": 4,
   "metadata": {},
   "outputs": [],
   "source": [
    "M = B - lamda * eye(2)"
   ]
  },
  {
   "cell_type": "code",
   "execution_count": 5,
   "metadata": {},
   "outputs": [
    {
     "data": {
      "text/latex": [
       "$$\\left[\\begin{matrix}a - \\lambda & - b\\\\b & a - \\lambda\\end{matrix}\\right]$$"
      ],
      "text/plain": [
       "⎡a - λ   -b  ⎤\n",
       "⎢            ⎥\n",
       "⎣  b    a - λ⎦"
      ]
     },
     "execution_count": 5,
     "metadata": {},
     "output_type": "execute_result"
    }
   ],
   "source": [
    "M\n"
   ]
  },
  {
   "cell_type": "code",
   "execution_count": 6,
   "metadata": {},
   "outputs": [
    {
     "data": {
      "text/latex": [
       "$$b^{2} + \\left(a - \\lambda\\right)^{2}$$"
      ],
      "text/plain": [
       " 2          2\n",
       "b  + (a - λ) "
      ]
     },
     "execution_count": 6,
     "metadata": {},
     "output_type": "execute_result"
    }
   ],
   "source": [
    "(a-lamda)**2+b**2 "
   ]
  },
  {
   "cell_type": "code",
   "execution_count": 7,
   "metadata": {},
   "outputs": [
    {
     "data": {
      "text/latex": [
       "$$\\left\\{a - i b, a + i b\\right\\}$$"
      ],
      "text/plain": [
       "{a - ⅈ⋅b, a + ⅈ⋅b}"
      ]
     },
     "execution_count": 7,
     "metadata": {},
     "output_type": "execute_result"
    }
   ],
   "source": [
    "lamda1,lamda2=solve(det(M),(lamda))\n",
    "{lamda1,lamda2}"
   ]
  },
  {
   "cell_type": "code",
   "execution_count": 8,
   "metadata": {},
   "outputs": [
    {
     "data": {
      "text/latex": [
       "$$\\left\\{v_{1}, v_{2}\\right\\}$$"
      ],
      "text/plain": [
       "{v₁, v₂}"
      ]
     },
     "execution_count": 8,
     "metadata": {},
     "output_type": "execute_result"
    }
   ],
   "source": [
    "v1,v2=symbols(\"v_1 v_2\")\n",
    "{v1,v2}"
   ]
  },
  {
   "cell_type": "code",
   "execution_count": 9,
   "metadata": {},
   "outputs": [
    {
     "data": {
      "text/latex": [
       "$$\\left[\\begin{matrix}i & -1\\\\1 & i\\end{matrix}\\right]$$"
      ],
      "text/plain": [
       "⎡ⅈ  -1⎤\n",
       "⎢     ⎥\n",
       "⎣1  ⅈ ⎦"
      ]
     },
     "execution_count": 9,
     "metadata": {},
     "output_type": "execute_result"
    }
   ],
   "source": [
    "((B-lamda1*eye(2))/b )"
   ]
  },
  {
   "cell_type": "code",
   "execution_count": 10,
   "metadata": {},
   "outputs": [
    {
     "data": {
      "text/latex": [
       "$$\\left[\\begin{matrix}- i & -1\\\\1 & - i\\end{matrix}\\right]$$"
      ],
      "text/plain": [
       "⎡-ⅈ  -1⎤\n",
       "⎢      ⎥\n",
       "⎣1   -ⅈ⎦"
      ]
     },
     "execution_count": 10,
     "metadata": {},
     "output_type": "execute_result"
    }
   ],
   "source": [
    "((B-lamda2*eye(2))/b )"
   ]
  },
  {
   "cell_type": "code",
   "execution_count": null,
   "metadata": {},
   "outputs": [],
   "source": []
  },
  {
   "cell_type": "code",
   "execution_count": null,
   "metadata": {},
   "outputs": [],
   "source": []
  }
 ],
 "metadata": {
  "kernelspec": {
   "display_name": "Python 3",
   "language": "python",
   "name": "python3"
  },
  "language_info": {
   "codemirror_mode": {
    "name": "ipython",
    "version": 3
   },
   "file_extension": ".py",
   "mimetype": "text/x-python",
   "name": "python",
   "nbconvert_exporter": "python",
   "pygments_lexer": "ipython3",
   "version": "3.7.0"
  }
 },
 "nbformat": 4,
 "nbformat_minor": 2
}
