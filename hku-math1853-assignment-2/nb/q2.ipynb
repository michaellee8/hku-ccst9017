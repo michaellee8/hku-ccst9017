{
 "cells": [
  {
   "cell_type": "markdown",
   "metadata": {
    "colab_type": "text",
    "id": "view-in-github"
   },
   "source": [
    "[View in Colaboratory](https://colab.research.google.com/github/michaellee8/hku-ccst9017/blob/master/hku-math1853-assignment-2/nb/q2.ipynb)"
   ]
  },
  {
   "cell_type": "code",
   "execution_count": 1,
   "metadata": {
    "cellView": "code",
    "colab": {
     "base_uri": "https://localhost:8080/",
     "height": 53
    },
    "colab_type": "code",
    "id": "TOO2om8NIADI",
    "outputId": "b447f892-8d2f-4f9b-d3fd-10cbd8c0e099"
   },
   "outputs": [],
   "source": [
    "# Initialize environment\n",
    "import os\n",
    "from sympy import *\n",
    "import sympy \n",
    "# from google.colab.output._publish import javascript\n",
    "# url = \"https://cdnjs.cloudflare.com/ajax/libs/mathjax/2.7.3/latest.js?config=default\"\n",
    "# javascript(url=url)\n",
    "if \"DATALAB_SETTINGS_OVERRIDES\" in os.environ:\n",
    "    def custom_latex_printer(exp,**options):\n",
    "        from google.colab.output._publish import javascript\n",
    "        url = \"https://cdnjs.cloudflare.com/ajax/libs/mathjax/2.7.3/latest.js?config=default\"\n",
    "        javascript(url=url)\n",
    "        return sympy.printing.latex(exp,**options)\n",
    "    init_printing(use_latex=\"mathjax\",latex_printer=custom_latex_printer)\n",
    "    !pip install sympy\n",
    "else:\n",
    "  init_printing()\n",
    "\n"
   ]
  },
  {
   "cell_type": "code",
   "execution_count": 2,
   "metadata": {
    "colab": {
     "base_uri": "https://localhost:8080/",
     "height": 112
    },
    "colab_type": "code",
    "id": "RYVc8VJSv50R",
    "outputId": "afad0eeb-0e40-4501-bc91-c736685419c2"
   },
   "outputs": [
    {
     "data": {
      "text/latex": [
       "$$\\left ( 1, \\quad \\left[\\begin{matrix}1\\\\-1\\\\0\\end{matrix}\\right]\\right )$$"
      ],
      "text/plain": [
       "⎛   ⎡1 ⎤⎞\n",
       "⎜   ⎢  ⎥⎟\n",
       "⎜1, ⎢-1⎥⎟\n",
       "⎜   ⎢  ⎥⎟\n",
       "⎝   ⎣0 ⎦⎠"
      ]
     },
     "execution_count": 2,
     "metadata": {},
     "output_type": "execute_result"
    }
   ],
   "source": [
    "\n",
    "lamda1,v1=1,Matrix([[1],[-1],[0]])\n",
    "\n",
    "(lamda1,v1)"
   ]
  },
  {
   "cell_type": "code",
   "execution_count": 3,
   "metadata": {
    "colab": {
     "base_uri": "https://localhost:8080/",
     "height": 112
    },
    "colab_type": "code",
    "id": "Bj0fQOQvLuJK",
    "outputId": "50214771-7440-4547-abaa-5abb19612ef8"
   },
   "outputs": [
    {
     "data": {
      "text/latex": [
       "$$\\left ( -1, \\quad \\left[\\begin{matrix}2\\\\0\\\\1\\end{matrix}\\right]\\right )$$"
      ],
      "text/plain": [
       "⎛    ⎡2⎤⎞\n",
       "⎜    ⎢ ⎥⎟\n",
       "⎜-1, ⎢0⎥⎟\n",
       "⎜    ⎢ ⎥⎟\n",
       "⎝    ⎣1⎦⎠"
      ]
     },
     "execution_count": 3,
     "metadata": {},
     "output_type": "execute_result"
    }
   ],
   "source": [
    "lamda2,v2=-1,Matrix([[2],[0],[1]])\n",
    "(lamda2,v2)"
   ]
  },
  {
   "cell_type": "code",
   "execution_count": 4,
   "metadata": {
    "colab": {
     "base_uri": "https://localhost:8080/",
     "height": 112
    },
    "colab_type": "code",
    "id": "PyBpW3RsM5l6",
    "outputId": "a3dd5006-6da5-4245-ccba-5039009914cf"
   },
   "outputs": [
    {
     "data": {
      "text/latex": [
       "$$\\left[\\begin{matrix}x_{1} & x_{2} & x_{3}\\\\x_{4} & x_{5} & x_{6}\\\\x_{7} & x_{8} & x_{9}\\end{matrix}\\right]$$"
      ],
      "text/plain": [
       "⎡x₁  x₂  x₃⎤\n",
       "⎢          ⎥\n",
       "⎢x₄  x₅  x₆⎥\n",
       "⎢          ⎥\n",
       "⎣x₇  x₈  x₉⎦"
      ]
     },
     "execution_count": 4,
     "metadata": {},
     "output_type": "execute_result"
    }
   ],
   "source": [
    "x1,x2,x3,x4,x5,x6,x7,x8,x9 = symbols(\"x_1 x_2 x_3 x_4 x_5 x_6 x_7 x_8 x_9\")\n",
    "A=Matrix([[x1,x2,x3],[x4,x5,x6],[x7,x8,x9]])\n",
    "# A=MatrixSymbol('A',3,3)\n",
    "Matrix(A)"
   ]
  },
  {
   "cell_type": "code",
   "execution_count": 5,
   "metadata": {
    "colab": {
     "base_uri": "https://localhost:8080/",
     "height": 64
    },
    "colab_type": "code",
    "id": "659chnkXPIEO",
    "outputId": "0057b0b1-470c-4729-d885-b166b0aaf0b4"
   },
   "outputs": [
    {
     "data": {
      "image/png": "[encoded data removed]",
      "text/latex": [
       "$$\\left [ \\right ]$$"
      ],
      "text/plain": [
       "[]"
      ]
     },
     "execution_count": 5,
     "metadata": {},
     "output_type": "execute_result"
    }
   ],
   "source": [
    "solve([(A-lamda1*eye(3))*v1,(A-lamda2*eye(3))*v2],[A])"
   ]
  },
  {
   "cell_type": "code",
   "execution_count": 6,
   "metadata": {
    "colab": {
     "base_uri": "https://localhost:8080/",
     "height": 112
    },
    "colab_type": "code",
    "id": "SPF8V8uiXNx1",
    "outputId": "e3b4425c-b660-450f-b6d1-698a12197ef7"
   },
   "outputs": [
    {
     "data": {
      "text/latex": [
       "$$\\left[\\begin{matrix}x_{1} - x_{2} - 1\\\\x_{4} - x_{5} + 1\\\\x_{7} - x_{8}\\end{matrix}\\right] = 0$$"
      ],
      "text/plain": [
       "⎡x₁ - x₂ - 1⎤    \n",
       "⎢           ⎥    \n",
       "⎢x₄ - x₅ + 1⎥ = 0\n",
       "⎢           ⎥    \n",
       "⎣  x₇ - x₈  ⎦    "
      ]
     },
     "execution_count": 6,
     "metadata": {},
     "output_type": "execute_result"
    }
   ],
   "source": [
    "A_m1 = (A-lamda1*eye(3))*v1\n",
    "Eq(A_m1,0,evaluate=False)"
   ]
  },
  {
   "cell_type": "code",
   "execution_count": 7,
   "metadata": {
    "colab": {
     "base_uri": "https://localhost:8080/",
     "height": 112
    },
    "colab_type": "code",
    "id": "pARdCWBKo3Ca",
    "outputId": "a0cc6c78-2d9e-4afc-d277-f4d7f5b9b751"
   },
   "outputs": [
    {
     "data": {
      "text/latex": [
       "$$\\left[\\begin{matrix}2 x_{1} + x_{3} + 2\\\\2 x_{4} + x_{6}\\\\2 x_{7} + x_{9} + 1\\end{matrix}\\right] = 0$$"
      ],
      "text/plain": [
       "⎡2⋅x₁ + x₃ + 2⎤    \n",
       "⎢             ⎥    \n",
       "⎢  2⋅x₄ + x₆  ⎥ = 0\n",
       "⎢             ⎥    \n",
       "⎣2⋅x₇ + x₉ + 1⎦    "
      ]
     },
     "execution_count": 7,
     "metadata": {},
     "output_type": "execute_result"
    }
   ],
   "source": [
    "A_m2 = (A-lamda2*eye(3))*v2\n",
    "Eq(A_m2,0,evaluate=False)\n"
   ]
  },
  {
   "cell_type": "code",
   "execution_count": 44,
   "metadata": {},
   "outputs": [
    {
     "data": {
      "image/png": "[encoded data removed]",
      "text/latex": [
       "$$\\left [ x_{1} - x_{2} - 1, \\quad x_{4} - x_{5} + 1, \\quad x_{7} - x_{8}, \\quad 2 x_{1} + x_{3} + 2, \\quad 2 x_{4} + x_{6}, \\quad 2 x_{7} + x_{9} + 1\\right ]$$"
      ],
      "text/plain": [
       "[x₁ - x₂ - 1, x₄ - x₅ + 1, x₇ - x₈, 2⋅x₁ + x₃ + 2, 2⋅x₄ + x₆, 2⋅x₇ + x₉ + 1]"
      ]
     },
     "execution_count": 44,
     "metadata": {},
     "output_type": "execute_result"
    }
   ],
   "source": [
    "[i for i in A_m1.col(0)]+[j for j in A_m2.col(0)]"
   ]
  },
  {
   "cell_type": "code",
   "execution_count": 8,
   "metadata": {
    "colab": {
     "base_uri": "https://localhost:8080/",
     "height": 88
    },
    "colab_type": "code",
    "id": "vSeCb4zOptFC",
    "outputId": "e1680b11-6daf-4b59-8ebc-58908c1cc016"
   },
   "outputs": [
    {
     "data": {
      "image/png": "[encoded data removed]",
      "text/latex": [
       "$$\\left ( - \\frac{x_{3}}{2} - 1, \\quad - \\frac{x_{3}}{2} - 2, \\quad x_{3}, \\quad - \\frac{x_{6}}{2}, \\quad - \\frac{x_{6}}{2} + 1, \\quad x_{6}, \\quad - \\frac{x_{9}}{2} - \\frac{1}{2}, \\quad - \\frac{x_{9}}{2} - \\frac{1}{2}, \\quad x_{9}\\right )$$"
      ],
      "text/plain": [
       "⎛  x₃        x₃          -x₆     x₆            x₉   1    x₉   1    ⎞\n",
       "⎜- ── - 1, - ── - 2, x₃, ────, - ── + 1, x₆, - ── - ─, - ── - ─, x₉⎟\n",
       "⎝  2         2            2      2             2    2    2    2    ⎠"
      ]
     },
     "execution_count": 8,
     "metadata": {},
     "output_type": "execute_result"
    }
   ],
   "source": [
    "sol = list(linsolve([i for i in A_m1.col(0)]+[j for j in A_m2.col(0)],[x for x in A]))[0]\n",
    "sol"
   ]
  },
  {
   "cell_type": "code",
   "execution_count": 9,
   "metadata": {
    "colab": {
     "base_uri": "https://localhost:8080/",
     "height": 125
    },
    "colab_type": "code",
    "id": "A2aKZQqZp0On",
    "outputId": "377c3df3-8fc1-4ff7-b262-e9d7318f1d39"
   },
   "outputs": [
    {
     "data": {
      "text/latex": [
       "$$\\left[\\begin{matrix}- \\frac{x_{3}}{2} - 1 & - \\frac{x_{3}}{2} - 2 & x_{3}\\\\- \\frac{x_{6}}{2} & - \\frac{x_{6}}{2} + 1 & x_{6}\\\\- \\frac{x_{9}}{2} - \\frac{1}{2} & - \\frac{x_{9}}{2} - \\frac{1}{2} & x_{9}\\end{matrix}\\right]$$"
      ],
      "text/plain": [
       "⎡  x₃        x₃        ⎤\n",
       "⎢- ── - 1  - ── - 2  x₃⎥\n",
       "⎢  2         2         ⎥\n",
       "⎢                      ⎥\n",
       "⎢  -x₆       x₆        ⎥\n",
       "⎢  ────    - ── + 1  x₆⎥\n",
       "⎢   2        2         ⎥\n",
       "⎢                      ⎥\n",
       "⎢  x₉   1    x₉   1    ⎥\n",
       "⎢- ── - ─  - ── - ─  x₉⎥\n",
       "⎣  2    2    2    2    ⎦"
      ]
     },
     "execution_count": 9,
     "metadata": {},
     "output_type": "execute_result"
    }
   ],
   "source": [
    "Msol = Matrix([sol[i:i+3] for i  in range(0, len(sol), 3)])\n",
    "Msol"
   ]
  },
  {
   "cell_type": "code",
   "execution_count": 37,
   "metadata": {},
   "outputs": [
    {
     "data": {
      "text/latex": [
       "$$\\left[\\begin{matrix}-2 & -3 & 2\\\\-1 & 0 & 2\\\\- \\frac{3}{2} & - \\frac{3}{2} & 2\\end{matrix}\\right]$$"
      ],
      "text/plain": [
       "⎡ -2    -3   2⎤\n",
       "⎢             ⎥\n",
       "⎢ -1    0    2⎥\n",
       "⎢             ⎥\n",
       "⎣-3/2  -3/2  2⎦"
      ]
     },
     "execution_count": 37,
     "metadata": {},
     "output_type": "execute_result"
    }
   ],
   "source": [
    "Asol = Msol.subs(x3,2).subs(x6,2).subs(x9,2)\n",
    "Asol"
   ]
  },
  {
   "cell_type": "code",
   "execution_count": 38,
   "metadata": {
    "colab": {},
    "colab_type": "code",
    "id": "8VGVsdSxx3jh"
   },
   "outputs": [
    {
     "data": {
      "image/png": "[encoded data removed]",
      "text/latex": [
       "$$\\left \\{ -1 : 1, \\quad 0 : 1, \\quad 1 : 1\\right \\}$$"
      ],
      "text/plain": [
       "{-1: 1, 0: 1, 1: 1}"
      ]
     },
     "execution_count": 38,
     "metadata": {},
     "output_type": "execute_result"
    }
   ],
   "source": [
    "Asol.eigenvals()"
   ]
  },
  {
   "cell_type": "code",
   "execution_count": 11,
   "metadata": {
    "colab": {
     "base_uri": "https://localhost:8080/",
     "height": 112
    },
    "colab_type": "code",
    "id": "DPU0-8YVu9Fv",
    "outputId": "446d0cb6-e14c-4b11-b5d0-2447b7112f27"
   },
   "outputs": [
    {
     "data": {
      "text/latex": [
       "$$\\left[\\begin{matrix}4\\\\2\\\\3\\end{matrix}\\right]$$"
      ],
      "text/plain": [
       "⎡4⎤\n",
       "⎢ ⎥\n",
       "⎢2⎥\n",
       "⎢ ⎥\n",
       "⎣3⎦"
      ]
     },
     "execution_count": 11,
     "metadata": {},
     "output_type": "execute_result"
    }
   ],
   "source": [
    "vM = Matrix([[4],[2],[3]])\n",
    "vM"
   ]
  },
  {
   "cell_type": "code",
   "execution_count": 42,
   "metadata": {
    "colab": {
     "base_uri": "https://localhost:8080/",
     "height": 143
    },
    "colab_type": "code",
    "id": "wVHbePCXvqnM",
    "outputId": "69691a58-48fc-4744-9c6a-dadd10c77b80"
   },
   "outputs": [
    {
     "data": {
      "text/latex": [
       "$$\\left [ \\left[\\begin{matrix}2 & 6 & -1\\\\0 & -2 & 1\\\\1 & 3 & 0\\end{matrix}\\right], \\quad \\left[\\begin{matrix}-1 & 0 & 0\\\\0 & 0 & 0\\\\0 & 0 & 1\\end{matrix}\\right]\\right ]$$"
      ],
      "text/plain": [
       "⎡⎡2  6   -1⎤  ⎡-1  0  0⎤⎤\n",
       "⎢⎢         ⎥  ⎢        ⎥⎥\n",
       "⎢⎢0  -2  1 ⎥, ⎢0   0  0⎥⎥\n",
       "⎢⎢         ⎥  ⎢        ⎥⎥\n",
       "⎣⎣1  3   0 ⎦  ⎣0   0  1⎦⎦"
      ]
     },
     "execution_count": 42,
     "metadata": {},
     "output_type": "execute_result"
    }
   ],
   "source": [
    "P,D = MatrixSymbol(\"P\",3,3),MatrixSymbol(\"D\",3,3)\n",
    "P_val,D_val = Asol.diagonalize()\n",
    "[P_val,D_val]"
   ]
  },
  {
   "cell_type": "code",
   "execution_count": 43,
   "metadata": {
    "colab": {
     "base_uri": "https://localhost:8080/",
     "height": 125
    },
    "colab_type": "code",
    "id": "6bGvIY5b2e1F",
    "outputId": "ae635bf0-744b-42b7-dd2a-4b7c00fd1071"
   },
   "outputs": [
    {
     "data": {
      "text/latex": [
       "$$P D P^{-1} = \\left[\\begin{matrix}-2 & -3 & 2\\\\-1 & 0 & 2\\\\- \\frac{3}{2} & - \\frac{3}{2} & 2\\end{matrix}\\right]$$"
      ],
      "text/plain": [
       "          ⎡ -2    -3   2⎤\n",
       "     -1   ⎢             ⎥\n",
       "P⋅D⋅P   = ⎢ -1    0    2⎥\n",
       "          ⎢             ⎥\n",
       "          ⎣-3/2  -3/2  2⎦"
      ]
     },
     "execution_count": 43,
     "metadata": {},
     "output_type": "execute_result"
    }
   ],
   "source": [
    "Eq(P*D*P**-1,Asol,evaluate=False)"
   ]
  },
  {
   "cell_type": "code",
   "execution_count": null,
   "metadata": {},
   "outputs": [],
   "source": []
  }
 ],
 "metadata": {
  "colab": {
   "collapsed_sections": [],
   "include_colab_link": true,
   "name": "Untitled0.ipynb",
   "provenance": [],
   "version": "0.3.2"
  },
  "kernelspec": {
   "display_name": "Python 3",
   "language": "python",
   "name": "python3"
  },
  "language_info": {
   "codemirror_mode": {
    "name": "ipython",
    "version": 3
   },
   "file_extension": ".py",
   "mimetype": "text/x-python",
   "name": "python",
   "nbconvert_exporter": "python",
   "pygments_lexer": "ipython3",
   "version": "3.7.0"
  }
 },
 "nbformat": 4,
 "nbformat_minor": 2
}
