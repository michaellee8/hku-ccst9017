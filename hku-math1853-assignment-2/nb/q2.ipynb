{
  "nbformat": 4,
  "nbformat_minor": 0,
  "metadata": {
    "colab": {
      "name": "Untitled0.ipynb",
      "version": "0.3.2",
      "provenance": [],
      "collapsed_sections": [],
      "include_colab_link": true
    },
    "kernelspec": {
      "display_name": "Python 3",
      "language": "python",
      "name": "python3"
    }
  },
  "cells": [
    {
      "cell_type": "markdown",
      "metadata": {
        "id": "view-in-github",
        "colab_type": "text"
      },
      "source": [
        "[View in Colaboratory](https://colab.research.google.com/github/michaellee8/hku-ccst9017/blob/master/hku-math1853-assignment-2/nb/q2.ipynb)"
      ]
    },
    {
      "metadata": {
        "cellView": "code",
        "colab_type": "code",
        "id": "TOO2om8NIADI",
        "colab": {}
      },
      "cell_type": "code",
      "source": [
        "# Initialize environment\n",
        "import os\n",
        "from sympy import *\n",
        "import sympy \n",
        "# from google.colab.output._publish import javascript\n",
        "# url = \"https://cdnjs.cloudflare.com/ajax/libs/mathjax/2.7.3/latest.js?config=default\"\n",
        "# javascript(url=url)\n",
        "if \"DATALAB_SETTINGS_OVERRIDES\" in os.environ:\n",
        "    def custom_latex_printer(exp,**options):\n",
        "        from google.colab.output._publish import javascript\n",
        "        url = \"https://cdnjs.cloudflare.com/ajax/libs/mathjax/2.7.3/latest.js?config=default\"\n",
        "        javascript(url=url)\n",
        "        return sympy.printing.latex(exp,**options)\n",
        "    init_printing(use_latex=\"mathjax\",latex_printer=custom_latex_printer)\n",
        "#     !pip install sympy\n",
        "else:\n",
        "  init_printing()\n",
        "\n"
      ],
      "execution_count": 0,
      "outputs": []
    },
    {
      "metadata": {
        "colab_type": "code",
        "id": "RYVc8VJSv50R",
        "outputId": "afad0eeb-0e40-4501-bc91-c736685419c2",
        "colab": {
          "base_uri": "https://localhost:8080/",
          "height": 112
        }
      },
      "cell_type": "code",
      "source": [
        "\n",
        "lamda1,v1=1,Matrix([[1],[-1],[0]])\n",
        "\n",
        "(lamda1,v1)"
      ],
      "execution_count": 0,
      "outputs": [
        {
          "output_type": "execute_result",
          "data": {
            "text/latex": "$$\\left ( 1, \\quad \\left[\\begin{matrix}1\\\\-1\\\\0\\end{matrix}\\right]\\right )$$",
            "text/plain": [
              "⎛   ⎡1 ⎤⎞\n",
              "⎜   ⎢  ⎥⎟\n",
              "⎜1, ⎢-1⎥⎟\n",
              "⎜   ⎢  ⎥⎟\n",
              "⎝   ⎣0 ⎦⎠"
            ]
          },
          "metadata": {
            "tags": []
          },
          "execution_count": 14
        }
      ]
    },
    {
      "metadata": {
        "colab_type": "code",
        "id": "Bj0fQOQvLuJK",
        "outputId": "50214771-7440-4547-abaa-5abb19612ef8",
        "colab": {
          "base_uri": "https://localhost:8080/",
          "height": 112
        }
      },
      "cell_type": "code",
      "source": [
        "lamda2,v2=-1,Matrix([[2],[0],[1]])\n",
        "(lamda2,v2)"
      ],
      "execution_count": 0,
      "outputs": [
        {
          "output_type": "execute_result",
          "data": {
            "text/latex": "$$\\left ( -1, \\quad \\left[\\begin{matrix}2\\\\0\\\\1\\end{matrix}\\right]\\right )$$",
            "text/plain": [
              "⎛    ⎡2⎤⎞\n",
              "⎜    ⎢ ⎥⎟\n",
              "⎜-1, ⎢0⎥⎟\n",
              "⎜    ⎢ ⎥⎟\n",
              "⎝    ⎣1⎦⎠"
            ]
          },
          "metadata": {
            "tags": []
          },
          "execution_count": 15
        }
      ]
    },
    {
      "metadata": {
        "colab_type": "code",
        "id": "PyBpW3RsM5l6",
        "outputId": "a3dd5006-6da5-4245-ccba-5039009914cf",
        "colab": {
          "base_uri": "https://localhost:8080/",
          "height": 112
        }
      },
      "cell_type": "code",
      "source": [
        "x1,x2,x3,x4,x5,x6,x7,x8,x9 = symbols(\"x_1 x_2 x_3 x_4 x_5 x_6 x_7 x_8 x_9\")\n",
        "A=Matrix([[x1,x2,x3],[x4,x5,x6],[x7,x8,x9]])\n",
        "# A=MatrixSymbol('A',3,3)\n",
        "Matrix(A)"
      ],
      "execution_count": 0,
      "outputs": [
        {
          "output_type": "execute_result",
          "data": {
            "text/latex": "$$\\left[\\begin{matrix}x_{1} & x_{2} & x_{3}\\\\x_{4} & x_{5} & x_{6}\\\\x_{7} & x_{8} & x_{9}\\end{matrix}\\right]$$",
            "text/plain": [
              "⎡x₁  x₂  x₃⎤\n",
              "⎢          ⎥\n",
              "⎢x₄  x₅  x₆⎥\n",
              "⎢          ⎥\n",
              "⎣x₇  x₈  x₉⎦"
            ]
          },
          "metadata": {
            "tags": []
          },
          "execution_count": 16
        }
      ]
    },
    {
      "metadata": {
        "colab_type": "code",
        "id": "659chnkXPIEO",
        "outputId": "0057b0b1-470c-4729-d885-b166b0aaf0b4",
        "colab": {
          "base_uri": "https://localhost:8080/",
          "height": 64
        }
      },
      "cell_type": "code",
      "source": [
        "solve([(A-lamda1*eye(3))*v1,(A-lamda2*eye(3))*v2],[A])"
      ],
      "execution_count": 0,
      "outputs": [
        {
          "output_type": "execute_result",
          "data": {
            "image/png": "[encoded data removed]",
            "text/latex": "$$\\left [ \\right ]$$",
            "text/plain": [
              "[]"
            ]
          },
          "metadata": {
            "tags": []
          },
          "execution_count": 17
        }
      ]
    },
    {
      "metadata": {
        "colab_type": "code",
        "id": "SPF8V8uiXNx1",
        "outputId": "e3b4425c-b660-450f-b6d1-698a12197ef7",
        "colab": {
          "base_uri": "https://localhost:8080/",
          "height": 112
        }
      },
      "cell_type": "code",
      "source": [
        "A_m1 = (A-lamda1*eye(3))*v1\n",
        "Eq(A_m1,0,evaluate=False)"
      ],
      "execution_count": 0,
      "outputs": [
        {
          "output_type": "execute_result",
          "data": {
            "text/latex": "$$\\left[\\begin{matrix}x_{1} - x_{2} - 1\\\\x_{4} - x_{5} + 1\\\\x_{7} - x_{8}\\end{matrix}\\right] = 0$$",
            "text/plain": [
              "⎡x₁ - x₂ - 1⎤    \n",
              "⎢           ⎥    \n",
              "⎢x₄ - x₅ + 1⎥ = 0\n",
              "⎢           ⎥    \n",
              "⎣  x₇ - x₈  ⎦    "
            ]
          },
          "metadata": {
            "tags": []
          },
          "execution_count": 18
        }
      ]
    },
    {
      "metadata": {
        "colab_type": "code",
        "id": "pARdCWBKo3Ca",
        "outputId": "a0cc6c78-2d9e-4afc-d277-f4d7f5b9b751",
        "colab": {
          "base_uri": "https://localhost:8080/",
          "height": 112
        }
      },
      "cell_type": "code",
      "source": [
        "A_m2 = (A-lamda2*eye(3))*v2\n",
        "Eq(A_m2,0,evaluate=False)\n"
      ],
      "execution_count": 0,
      "outputs": [
        {
          "output_type": "execute_result",
          "data": {
            "text/latex": "$$\\left[\\begin{matrix}2 x_{1} + x_{3} + 2\\\\2 x_{4} + x_{6}\\\\2 x_{7} + x_{9} + 1\\end{matrix}\\right] = 0$$",
            "text/plain": [
              "⎡2⋅x₁ + x₃ + 2⎤    \n",
              "⎢             ⎥    \n",
              "⎢  2⋅x₄ + x₆  ⎥ = 0\n",
              "⎢             ⎥    \n",
              "⎣2⋅x₇ + x₉ + 1⎦    "
            ]
          },
          "metadata": {
            "tags": []
          },
          "execution_count": 19
        }
      ]
    },
    {
      "metadata": {
        "id": "wma6qozXandT",
        "colab_type": "code",
        "colab": {},
        "outputId": "b7c0c03d-3a65-4159-8e70-5c7348c34852"
      },
      "cell_type": "code",
      "source": [
        "[i for i in A_m1.col(0)]+[j for j in A_m2.col(0)]"
      ],
      "execution_count": 0,
      "outputs": [
        {
          "output_type": "execute_result",
          "data": {
            "image/png": "[encoded data removed]",
            "text/latex": "$$\\left [ x_{1} - x_{2} - 1, \\quad x_{4} - x_{5} + 1, \\quad x_{7} - x_{8}, \\quad 2 x_{1} + x_{3} + 2, \\quad 2 x_{4} + x_{6}, \\quad 2 x_{7} + x_{9} + 1\\right ]$$",
            "text/plain": [
              "[x₁ - x₂ - 1, x₄ - x₅ + 1, x₇ - x₈, 2⋅x₁ + x₃ + 2, 2⋅x₄ + x₆, 2⋅x₇ + x₉ + 1]"
            ]
          },
          "metadata": {
            "tags": []
          },
          "execution_count": 20
        }
      ]
    },
    {
      "metadata": {
        "colab_type": "code",
        "id": "vSeCb4zOptFC",
        "outputId": "e1680b11-6daf-4b59-8ebc-58908c1cc016",
        "colab": {
          "base_uri": "https://localhost:8080/",
          "height": 88
        }
      },
      "cell_type": "code",
      "source": [
        "sol = list(linsolve([i for i in A_m1.col(0)]+[j for j in A_m2.col(0)],[x for x in A]))[0]\n",
        "sol"
      ],
      "execution_count": 0,
      "outputs": [
        {
          "output_type": "execute_result",
          "data": {
            "image/png": "[encoded data removed]",
            "text/latex": "$$\\left ( - \\frac{x_{3}}{2} - 1, \\quad - \\frac{x_{3}}{2} - 2, \\quad x_{3}, \\quad - \\frac{x_{6}}{2}, \\quad - \\frac{x_{6}}{2} + 1, \\quad x_{6}, \\quad - \\frac{x_{9}}{2} - \\frac{1}{2}, \\quad - \\frac{x_{9}}{2} - \\frac{1}{2}, \\quad x_{9}\\right )$$",
            "text/plain": [
              "⎛  x₃        x₃          -x₆     x₆            x₉   1    x₉   1    ⎞\n",
              "⎜- ── - 1, - ── - 2, x₃, ────, - ── + 1, x₆, - ── - ─, - ── - ─, x₉⎟\n",
              "⎝  2         2            2      2             2    2    2    2    ⎠"
            ]
          },
          "metadata": {
            "tags": []
          },
          "execution_count": 21
        }
      ]
    },
    {
      "metadata": {
        "colab_type": "code",
        "id": "A2aKZQqZp0On",
        "outputId": "377c3df3-8fc1-4ff7-b262-e9d7318f1d39",
        "colab": {
          "base_uri": "https://localhost:8080/",
          "height": 125
        }
      },
      "cell_type": "code",
      "source": [
        "Msol = Matrix([sol[i:i+3] for i  in range(0, len(sol), 3)])\n",
        "Msol"
      ],
      "execution_count": 0,
      "outputs": [
        {
          "output_type": "execute_result",
          "data": {
            "text/latex": "$$\\left[\\begin{matrix}- \\frac{x_{3}}{2} - 1 & - \\frac{x_{3}}{2} - 2 & x_{3}\\\\- \\frac{x_{6}}{2} & - \\frac{x_{6}}{2} + 1 & x_{6}\\\\- \\frac{x_{9}}{2} - \\frac{1}{2} & - \\frac{x_{9}}{2} - \\frac{1}{2} & x_{9}\\end{matrix}\\right]$$",
            "text/plain": [
              "⎡  x₃        x₃        ⎤\n",
              "⎢- ── - 1  - ── - 2  x₃⎥\n",
              "⎢  2         2         ⎥\n",
              "⎢                      ⎥\n",
              "⎢  -x₆       x₆        ⎥\n",
              "⎢  ────    - ── + 1  x₆⎥\n",
              "⎢   2        2         ⎥\n",
              "⎢                      ⎥\n",
              "⎢  x₉   1    x₉   1    ⎥\n",
              "⎢- ── - ─  - ── - ─  x₉⎥\n",
              "⎣  2    2    2    2    ⎦"
            ]
          },
          "metadata": {
            "tags": []
          },
          "execution_count": 22
        }
      ]
    },
    {
      "metadata": {
        "scrolled": true,
        "id": "__9F0x5Sandg",
        "colab_type": "code",
        "colab": {},
        "outputId": "88b0592a-4b88-449a-acc4-5e6c45835ed1"
      },
      "cell_type": "code",
      "source": [
        "Asol = Msol.subs(x3,2).subs(x6,2).subs(x9,2)\n",
        "print(Asol)"
      ],
      "execution_count": 0,
      "outputs": [
        {
          "output_type": "stream",
          "text": [
            "Matrix([[-2, -3, 2], [-1, 0, 2], [-3/2, -3/2, 2]])\n"
          ],
          "name": "stdout"
        }
      ]
    },
    {
      "metadata": {
        "id": "PCSIgtacandk",
        "colab_type": "code",
        "colab": {},
        "outputId": "89eb44a6-50f2-4691-e970-a53e4ed9e984"
      },
      "cell_type": "code",
      "source": [
        "lamda = symbols('lamda')\n",
        "factor((Asol-lamda*eye(3)).det())"
      ],
      "execution_count": 0,
      "outputs": [
        {
          "output_type": "execute_result",
          "data": {
            "image/png": "[encoded data removed]",
            "text/latex": "$$- \\lambda \\left(\\lambda - 1\\right) \\left(\\lambda + 1\\right)$$",
            "text/plain": [
              "-λ⋅(λ - 1)⋅(λ + 1)"
            ]
          },
          "metadata": {
            "tags": []
          },
          "execution_count": 31
        }
      ]
    },
    {
      "metadata": {
        "colab_type": "code",
        "id": "8VGVsdSxx3jh",
        "colab": {},
        "outputId": "0105d601-d7ac-422d-c84b-762bbce93b58"
      },
      "cell_type": "code",
      "source": [
        "Asol.eigenvals()"
      ],
      "execution_count": 0,
      "outputs": [
        {
          "output_type": "execute_result",
          "data": {
            "image/png": "[encoded data removed]",
            "text/latex": "$$\\left \\{ -1 : 1, \\quad 0 : 1, \\quad 1 : 1\\right \\}$$",
            "text/plain": [
              "{-1: 1, 0: 1, 1: 1}"
            ]
          },
          "metadata": {
            "tags": []
          },
          "execution_count": 25
        }
      ]
    },
    {
      "metadata": {
        "colab_type": "code",
        "id": "DPU0-8YVu9Fv",
        "outputId": "446d0cb6-e14c-4b11-b5d0-2447b7112f27",
        "colab": {
          "base_uri": "https://localhost:8080/",
          "height": 112
        }
      },
      "cell_type": "code",
      "source": [
        "vM = Matrix([[4],[2],[3]])\n",
        "vM"
      ],
      "execution_count": 0,
      "outputs": [
        {
          "output_type": "execute_result",
          "data": {
            "text/latex": "$$\\left[\\begin{matrix}4\\\\2\\\\3\\end{matrix}\\right]$$",
            "text/plain": [
              "⎡4⎤\n",
              "⎢ ⎥\n",
              "⎢2⎥\n",
              "⎢ ⎥\n",
              "⎣3⎦"
            ]
          },
          "metadata": {
            "tags": []
          },
          "execution_count": 26
        }
      ]
    },
    {
      "metadata": {
        "colab_type": "code",
        "id": "wVHbePCXvqnM",
        "outputId": "69691a58-48fc-4744-9c6a-dadd10c77b80",
        "colab": {
          "base_uri": "https://localhost:8080/",
          "height": 143
        }
      },
      "cell_type": "code",
      "source": [
        "P,D = MatrixSymbol(\"P\",3,3),MatrixSymbol(\"D\",3,3)\n",
        "P_val,D_val = Asol.diagonalize()\n",
        "[P_val,D_val]"
      ],
      "execution_count": 0,
      "outputs": [
        {
          "output_type": "execute_result",
          "data": {
            "text/latex": "$$\\left [ \\left[\\begin{matrix}2 & 6 & -1\\\\0 & -2 & 1\\\\1 & 3 & 0\\end{matrix}\\right], \\quad \\left[\\begin{matrix}-1 & 0 & 0\\\\0 & 0 & 0\\\\0 & 0 & 1\\end{matrix}\\right]\\right ]$$",
            "text/plain": [
              "⎡⎡2  6   -1⎤  ⎡-1  0  0⎤⎤\n",
              "⎢⎢         ⎥  ⎢        ⎥⎥\n",
              "⎢⎢0  -2  1 ⎥, ⎢0   0  0⎥⎥\n",
              "⎢⎢         ⎥  ⎢        ⎥⎥\n",
              "⎣⎣1  3   0 ⎦  ⎣0   0  1⎦⎦"
            ]
          },
          "metadata": {
            "tags": []
          },
          "execution_count": 27
        }
      ]
    },
    {
      "metadata": {
        "colab_type": "code",
        "id": "6bGvIY5b2e1F",
        "outputId": "ae635bf0-744b-42b7-dd2a-4b7c00fd1071",
        "colab": {
          "base_uri": "https://localhost:8080/",
          "height": 125
        }
      },
      "cell_type": "code",
      "source": [
        "Eq(P*D*P**-1,Asol,evaluate=False)"
      ],
      "execution_count": 0,
      "outputs": [
        {
          "output_type": "execute_result",
          "data": {
            "text/latex": "$$P D P^{-1} = \\left[\\begin{matrix}-2 & -3 & 2\\\\-1 & 0 & 2\\\\- \\frac{3}{2} & - \\frac{3}{2} & 2\\end{matrix}\\right]$$",
            "text/plain": [
              "          ⎡ -2    -3   2⎤\n",
              "     -1   ⎢             ⎥\n",
              "P⋅D⋅P   = ⎢ -1    0    2⎥\n",
              "          ⎢             ⎥\n",
              "          ⎣-3/2  -3/2  2⎦"
            ]
          },
          "metadata": {
            "tags": []
          },
          "execution_count": 28
        }
      ]
    },
    {
      "metadata": {
        "id": "kcXBJ9aXand6",
        "colab_type": "code",
        "colab": {},
        "outputId": "c73fa18d-1614-4c28-e4d7-e0dd09afcc9e"
      },
      "cell_type": "code",
      "source": [
        "expand(lamda + lamda(2*lamda+1)-2*(lamda+2)*lamda+6)"
      ],
      "execution_count": 0,
      "outputs": [
        {
          "output_type": "execute_result",
          "data": {
            "image/png": "[encoded data removed]",
            "text/latex": "$$- 2 \\lambda^{2} - 3 \\lambda + \\lambda{\\left (2 \\lambda + 1 \\right )} + 6$$",
            "text/plain": [
              "     2                       \n",
              "- 2⋅λ  - 3⋅λ + λ(2⋅λ + 1) + 6"
            ]
          },
          "metadata": {
            "tags": []
          },
          "execution_count": 29
        }
      ]
    },
    {
      "metadata": {
        "id": "ExzGgthaaneA",
        "colab_type": "code",
        "colab": {}
      },
      "cell_type": "code",
      "source": [
        ""
      ],
      "execution_count": 0,
      "outputs": []
    }
  ]
}