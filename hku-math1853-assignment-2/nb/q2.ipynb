{
  "nbformat": 4,
  "nbformat_minor": 0,
  "metadata": {
    "colab": {
      "name": "Untitled0.ipynb",
      "version": "0.3.2",
      "provenance": [],
      "collapsed_sections": [],
      "include_colab_link": true
    },
    "kernelspec": {
      "name": "python3",
      "display_name": "Python 3"
    }
  },
  "cells": [
    {
      "cell_type": "markdown",
      "metadata": {
        "id": "view-in-github",
        "colab_type": "text"
      },
      "source": [
        "[View in Colaboratory](https://colab.research.google.com/github/michaellee8/hku-ccst9017/blob/master/hku-math1853-assignment-2/nb/q2.ipynb)"
      ]
    },
    {
      "metadata": {
        "id": "TOO2om8NIADI",
        "colab_type": "code",
        "colab": {
          "base_uri": "https://localhost:8080/",
          "height": 53
        },
        "cellView": "code",
        "outputId": "b447f892-8d2f-4f9b-d3fd-10cbd8c0e099"
      },
      "cell_type": "code",
      "source": [
        "# Initialize environment\n",
        "import os\n",
        "# from google.colab.output._publish import javascript\n",
        "# url = \"https://cdnjs.cloudflare.com/ajax/libs/mathjax/2.7.3/latest.js?config=default\"\n",
        "# javascript(url=url)\n",
        "if \"DATALAB_SETTINGS_OVERRIDES\" in os.environ:\n",
        "    def custom_latex_printer(exp,**options):\n",
        "        from google.colab.output._publish import javascript\n",
        "        url = \"https://cdnjs.cloudflare.com/ajax/libs/mathjax/2.7.3/latest.js?config=default\"\n",
        "        javascript(url=url)\n",
        "        return sympy.printing.latex(exp,**options)\n",
        "    init_printing(use_latex=\"mathjax\",latex_printer=custom_latex_printer)\n",
        "    !pip install sympy\n",
        "else:\n",
        "  init_printing()\n",
        "from sympy import *\n",
        "import sympy \n"
      ],
      "execution_count": 115,
      "outputs": [
        {
          "output_type": "stream",
          "text": [
            "Requirement already satisfied: sympy in /usr/local/lib/python3.6/dist-packages (1.1.1)\n",
            "Requirement already satisfied: mpmath>=0.19 in /usr/local/lib/python3.6/dist-packages (from sympy) (1.0.0)\n"
          ],
          "name": "stdout"
        }
      ]
    },
    {
      "metadata": {
        "id": "dgPtgriP9iHg",
        "colab_type": "code",
        "colab": {
          "base_uri": "https://localhost:8080/",
          "height": 1115
        },
        "outputId": "2fcc4334-d0fe-42c3-e8ba-c3b016e638c6"
      },
      "cell_type": "code",
      "source": [
        "import os\n",
        "from pprint import pprint\n",
        "pprint(vars(os.environ))\n",
        "\"abc\" in os.environ"
      ],
      "execution_count": 111,
      "outputs": [
        {
          "output_type": "stream",
          "text": [
            "{'_data': {b'CLICOLOR': b'1',\n",
            "           b'CLOUDSDK_CONFIG': b'/content/.config',\n",
            "           b'COLAB_GPU': b'0',\n",
            "           b'CUDA_PKG_VERSION': b'9-2=9.2.148-1',\n",
            "           b'CUDA_VERSION': b'9.2.148',\n",
            "           b'CUDNN_VERSION': b'7.2.1.38',\n",
            "           b'DATALAB_SETTINGS_OVERRIDES': b'{\"datalabBasePath\":\"/tun/m/m-9q8'\n",
            "                                          b'57vqb1mfn/\",\"kernelManagerProxyP'\n",
            "                                          b'ort\":6000,\"kernelManagerProxyHos'\n",
            "                                          b't\":\"172.28.0.3\",\"jupyterArgs\":[\"'\n",
            "                                          b'notebook\",\"-y\",\"--no-browser\",\"-'\n",
            "                                          b'-log-level=DEBUG\",\"--debug\",\"--N'\n",
            "                                          b'otebookApp.allow_origin=\\\\\"*\\\\\"\",\"'\n",
            "                                          b'--NotebookApp.log_format=\\\\\"%(mes'\n",
            "                                          b'sage)s\\\\\"\",\"--NotebookApp.disable'\n",
            "                                          b'_check_xsrf=True\",\"--NotebookApp'\n",
            "                                          b'.token=\",\"--Session.key=\\\\\"\\\\\"\",\"-'\n",
            "                                          b'-Session.keyfile=\\\\\"\\\\\"\",\"--Conten'\n",
            "                                          b'tsManager.untitled_directory=\\\\\"U'\n",
            "                                          b'ntitled Folder\\\\\"\",\"--ContentsMan'\n",
            "                                          b'ager.untitled_file=\\\\\"Untitled Fi'\n",
            "                                          b'le\\\\\"\",\"--ContentsManager.untitle'\n",
            "                                          b'd_notebook=\\\\\"Untitled Notebook\\\\\"'\n",
            "                                          b'\",\"--KernelManager.autorestart=T'\n",
            "                                          b'rue\",\"--ip=\\\\\"172.28.0.2\\\\\"\"]}',\n",
            "           b'DEBIAN_FRONTEND': b'noninteractive',\n",
            "           b'ENV': b'/root/.bashrc',\n",
            "           b'GIT_PAGER': b'cat',\n",
            "           b'GLIBCPP_FORCE_NEW': b'1',\n",
            "           b'GLIBCXX_FORCE_NEW': b'1',\n",
            "           b'HOME': b'/root',\n",
            "           b'HOSTNAME': b'aad419d1077f',\n",
            "           b'JPY_PARENT_PID': b'58',\n",
            "           b'LANG': b'en_US.UTF-8',\n",
            "           b'LD_LIBRARY_PATH': b'/usr/local/nvidia/lib:/usr/local/nvidia/lib64',\n",
            "           b'LD_PRELOAD': b'/usr/lib/x86_64-linux-gnu/libtcmalloc.so.4',\n",
            "           b'MPLBACKEND': b'module://ipykernel.pylab.backend_inline',\n",
            "           b'NCCL_VERSION': b'2.3.5',\n",
            "           b'NVIDIA_DRIVER_CAPABILITIES': b'compute,utility',\n",
            "           b'NVIDIA_REQUIRE_CUDA': b'cuda>=9.2',\n",
            "           b'NVIDIA_VISIBLE_DEVICES': b'all',\n",
            "           b'OLDPWD': b'/',\n",
            "           b'PAGER': b'cat',\n",
            "           b'PATH': b'/usr/local/bin:/usr/local/nvidia/bin:/usr/local/cuda/bin'\n",
            "                    b':/usr/local/sbin:/usr/local/bin:/usr/sbin:/usr/bin:/sbin'\n",
            "                    b':/bin:/tools/node/bin:/tools/google-cloud-sdk/bin:/opt/b'\n",
            "                    b'in',\n",
            "           b'PWD': b'/',\n",
            "           b'PYTHONPATH': b'/env/python',\n",
            "           b'SHELL': b'/bin/bash',\n",
            "           b'SHLVL': b'1',\n",
            "           b'TERM': b'xterm-color',\n",
            "           b'TF_FORCE_GPU_ALLOW_GROWTH': b'true',\n",
            "           b'_': b'/tools/node/bin/forever'},\n",
            " 'decodekey': <function _createenviron.<locals>.decode at 0x7fefc382bea0>,\n",
            " 'decodevalue': <function _createenviron.<locals>.decode at 0x7fefc382bea0>,\n",
            " 'encodekey': <function _createenviron.<locals>.encode at 0x7fefc382be18>,\n",
            " 'encodevalue': <function _createenviron.<locals>.encode at 0x7fefc382be18>,\n",
            " 'putenv': <built-in function putenv>,\n",
            " 'unsetenv': <built-in function unsetenv>}\n"
          ],
          "name": "stdout"
        },
        {
          "output_type": "execute_result",
          "data": {
            "text/plain": [
              "False"
            ]
          },
          "metadata": {
            "tags": []
          },
          "execution_count": 111
        }
      ]
    },
    {
      "metadata": {
        "id": "RYVc8VJSv50R",
        "colab_type": "code",
        "colab": {
          "base_uri": "https://localhost:8080/",
          "height": 112
        },
        "outputId": "afad0eeb-0e40-4501-bc91-c736685419c2"
      },
      "cell_type": "code",
      "source": [
        "\n",
        "lamda1,v1=1,Matrix([[1],[-1],[0]])\n",
        "\n",
        "(lamda1,v1)"
      ],
      "execution_count": 114,
      "outputs": [
        {
          "output_type": "display_data",
          "data": {
            "text/html": [
              "<script src='https://cdnjs.cloudflare.com/ajax/libs/mathjax/2.7.3/latest.js?config=default'></script>"
            ],
            "text/plain": [
              "<IPython.core.display.HTML object>"
            ]
          },
          "metadata": {
            "tags": []
          }
        },
        {
          "output_type": "execute_result",
          "data": {
            "text/latex": "$$\\left ( 1, \\quad \\left[\\begin{matrix}1\\\\-1\\\\0\\end{matrix}\\right]\\right )$$",
            "text/plain": [
              "⎛   ⎡1 ⎤⎞\n",
              "⎜   ⎢  ⎥⎟\n",
              "⎜1, ⎢-1⎥⎟\n",
              "⎜   ⎢  ⎥⎟\n",
              "⎝   ⎣0 ⎦⎠"
            ]
          },
          "metadata": {
            "tags": []
          },
          "execution_count": 114
        }
      ]
    },
    {
      "metadata": {
        "id": "Bj0fQOQvLuJK",
        "colab_type": "code",
        "colab": {
          "base_uri": "https://localhost:8080/",
          "height": 112
        },
        "outputId": "50214771-7440-4547-abaa-5abb19612ef8"
      },
      "cell_type": "code",
      "source": [
        "lamda2,v2=-1,Matrix([[2],[0],[1]])\n",
        "(lamda2,v2)"
      ],
      "execution_count": 3,
      "outputs": [
        {
          "output_type": "display_data",
          "data": {
            "text/html": [
              "<script src='https://cdnjs.cloudflare.com/ajax/libs/mathjax/2.7.3/latest.js?config=default'></script>"
            ],
            "text/plain": [
              "<IPython.core.display.HTML object>"
            ]
          },
          "metadata": {
            "tags": []
          }
        },
        {
          "output_type": "execute_result",
          "data": {
            "text/latex": "$$\\left ( -1, \\quad \\left[\\begin{matrix}2\\\\0\\\\1\\end{matrix}\\right]\\right )$$",
            "text/plain": [
              "⎛    ⎡2⎤⎞\n",
              "⎜    ⎢ ⎥⎟\n",
              "⎜-1, ⎢0⎥⎟\n",
              "⎜    ⎢ ⎥⎟\n",
              "⎝    ⎣1⎦⎠"
            ]
          },
          "metadata": {
            "tags": []
          },
          "execution_count": 3
        }
      ]
    },
    {
      "metadata": {
        "id": "PyBpW3RsM5l6",
        "colab_type": "code",
        "colab": {
          "base_uri": "https://localhost:8080/",
          "height": 112
        },
        "outputId": "a3dd5006-6da5-4245-ccba-5039009914cf"
      },
      "cell_type": "code",
      "source": [
        "x1,x2,x3,x4,x5,x6,x7,x8,x9 = symbols(\"x_1 x_2 x_3 x_4 x_5 x_6 x_7 x_8 x_9\")\n",
        "A=Matrix([[x1,x2,x3],[x4,x5,x6],[x7,x8,x9]])\n",
        "# A=MatrixSymbol('A',3,3)\n",
        "Matrix(A)"
      ],
      "execution_count": 4,
      "outputs": [
        {
          "output_type": "display_data",
          "data": {
            "text/html": [
              "<script src='https://cdnjs.cloudflare.com/ajax/libs/mathjax/2.7.3/latest.js?config=default'></script>"
            ],
            "text/plain": [
              "<IPython.core.display.HTML object>"
            ]
          },
          "metadata": {
            "tags": []
          }
        },
        {
          "output_type": "execute_result",
          "data": {
            "text/latex": "$$\\left[\\begin{matrix}x_{1} & x_{2} & x_{3}\\\\x_{4} & x_{5} & x_{6}\\\\x_{7} & x_{8} & x_{9}\\end{matrix}\\right]$$",
            "text/plain": [
              "⎡x₁  x₂  x₃⎤\n",
              "⎢          ⎥\n",
              "⎢x₄  x₅  x₆⎥\n",
              "⎢          ⎥\n",
              "⎣x₇  x₈  x₉⎦"
            ]
          },
          "metadata": {
            "tags": []
          },
          "execution_count": 4
        }
      ]
    },
    {
      "metadata": {
        "id": "659chnkXPIEO",
        "colab_type": "code",
        "colab": {
          "base_uri": "https://localhost:8080/",
          "height": 64
        },
        "outputId": "0057b0b1-470c-4729-d885-b166b0aaf0b4"
      },
      "cell_type": "code",
      "source": [
        "solve([(A-lamda1*eye(3))*v1,(A-lamda2*eye(3))*v2],[A])"
      ],
      "execution_count": 5,
      "outputs": [
        {
          "output_type": "display_data",
          "data": {
            "text/html": [
              "<script src='https://cdnjs.cloudflare.com/ajax/libs/mathjax/2.7.3/latest.js?config=default'></script>"
            ],
            "text/plain": [
              "<IPython.core.display.HTML object>"
            ]
          },
          "metadata": {
            "tags": []
          }
        },
        {
          "output_type": "execute_result",
          "data": {
            "text/latex": "$$\\left [ \\right ]$$",
            "text/plain": [
              "[]"
            ]
          },
          "metadata": {
            "tags": []
          },
          "execution_count": 5
        }
      ]
    },
    {
      "metadata": {
        "id": "SPF8V8uiXNx1",
        "colab_type": "code",
        "colab": {
          "base_uri": "https://localhost:8080/",
          "height": 112
        },
        "outputId": "e3b4425c-b660-450f-b6d1-698a12197ef7"
      },
      "cell_type": "code",
      "source": [
        "A_m1 = (A-lamda1*eye(3))*v1\n",
        "Eq(A_m1,0,evaluate=False)"
      ],
      "execution_count": 6,
      "outputs": [
        {
          "output_type": "display_data",
          "data": {
            "text/html": [
              "<script src='https://cdnjs.cloudflare.com/ajax/libs/mathjax/2.7.3/latest.js?config=default'></script>"
            ],
            "text/plain": [
              "<IPython.core.display.HTML object>"
            ]
          },
          "metadata": {
            "tags": []
          }
        },
        {
          "output_type": "execute_result",
          "data": {
            "text/latex": "$$\\left[\\begin{matrix}x_{1} - x_{2} - 1\\\\x_{4} - x_{5} + 1\\\\x_{7} - x_{8}\\end{matrix}\\right] = 0$$",
            "text/plain": [
              "⎡x₁ - x₂ - 1⎤    \n",
              "⎢           ⎥    \n",
              "⎢x₄ - x₅ + 1⎥ = 0\n",
              "⎢           ⎥    \n",
              "⎣  x₇ - x₈  ⎦    "
            ]
          },
          "metadata": {
            "tags": []
          },
          "execution_count": 6
        }
      ]
    },
    {
      "metadata": {
        "id": "pARdCWBKo3Ca",
        "colab_type": "code",
        "colab": {
          "base_uri": "https://localhost:8080/",
          "height": 112
        },
        "outputId": "a0cc6c78-2d9e-4afc-d277-f4d7f5b9b751"
      },
      "cell_type": "code",
      "source": [
        "A_m2 = (A-lamda2*eye(3))*v2\n",
        "Eq(A_m2,0,evaluate=False)\n"
      ],
      "execution_count": 7,
      "outputs": [
        {
          "output_type": "display_data",
          "data": {
            "text/html": [
              "<script src='https://cdnjs.cloudflare.com/ajax/libs/mathjax/2.7.3/latest.js?config=default'></script>"
            ],
            "text/plain": [
              "<IPython.core.display.HTML object>"
            ]
          },
          "metadata": {
            "tags": []
          }
        },
        {
          "output_type": "execute_result",
          "data": {
            "text/latex": "$$\\left[\\begin{matrix}2 x_{1} + x_{3} + 2\\\\2 x_{4} + x_{6}\\\\2 x_{7} + x_{9} + 1\\end{matrix}\\right] = 0$$",
            "text/plain": [
              "⎡2⋅x₁ + x₃ + 2⎤    \n",
              "⎢             ⎥    \n",
              "⎢  2⋅x₄ + x₆  ⎥ = 0\n",
              "⎢             ⎥    \n",
              "⎣2⋅x₇ + x₉ + 1⎦    "
            ]
          },
          "metadata": {
            "tags": []
          },
          "execution_count": 7
        }
      ]
    },
    {
      "metadata": {
        "id": "vSeCb4zOptFC",
        "colab_type": "code",
        "colab": {
          "base_uri": "https://localhost:8080/",
          "height": 88
        },
        "outputId": "e1680b11-6daf-4b59-8ebc-58908c1cc016"
      },
      "cell_type": "code",
      "source": [
        "sol = list(linsolve([i for i in A_m1.col(0)]+[j for j in A_m2.col(0)],[x for x in A]))[0]\n",
        "sol"
      ],
      "execution_count": 8,
      "outputs": [
        {
          "output_type": "display_data",
          "data": {
            "text/html": [
              "<script src='https://cdnjs.cloudflare.com/ajax/libs/mathjax/2.7.3/latest.js?config=default'></script>"
            ],
            "text/plain": [
              "<IPython.core.display.HTML object>"
            ]
          },
          "metadata": {
            "tags": []
          }
        },
        {
          "output_type": "execute_result",
          "data": {
            "text/latex": "$$\\left ( - \\frac{x_{3}}{2} - 1, \\quad - \\frac{x_{3}}{2} - 2, \\quad x_{3}, \\quad - \\frac{x_{6}}{2}, \\quad - \\frac{x_{6}}{2} + 1, \\quad x_{6}, \\quad - \\frac{x_{9}}{2} - \\frac{1}{2}, \\quad - \\frac{x_{9}}{2} - \\frac{1}{2}, \\quad x_{9}\\right )$$",
            "text/plain": [
              "⎛  x₃        x₃          -x₆     x₆            x₉   1    x₉   1    ⎞\n",
              "⎜- ── - 1, - ── - 2, x₃, ────, - ── + 1, x₆, - ── - ─, - ── - ─, x₉⎟\n",
              "⎝  2         2            2      2             2    2    2    2    ⎠"
            ]
          },
          "metadata": {
            "tags": []
          },
          "execution_count": 8
        }
      ]
    },
    {
      "metadata": {
        "id": "A2aKZQqZp0On",
        "colab_type": "code",
        "colab": {
          "base_uri": "https://localhost:8080/",
          "height": 125
        },
        "outputId": "377c3df3-8fc1-4ff7-b262-e9d7318f1d39"
      },
      "cell_type": "code",
      "source": [
        "Msol = Matrix([sol[i:i+3] for i  in range(0, len(sol), 3)])\n",
        "Msol"
      ],
      "execution_count": 9,
      "outputs": [
        {
          "output_type": "display_data",
          "data": {
            "text/html": [
              "<script src='https://cdnjs.cloudflare.com/ajax/libs/mathjax/2.7.3/latest.js?config=default'></script>"
            ],
            "text/plain": [
              "<IPython.core.display.HTML object>"
            ]
          },
          "metadata": {
            "tags": []
          }
        },
        {
          "output_type": "execute_result",
          "data": {
            "text/latex": "$$\\left[\\begin{matrix}- \\frac{x_{3}}{2} - 1 & - \\frac{x_{3}}{2} - 2 & x_{3}\\\\- \\frac{x_{6}}{2} & - \\frac{x_{6}}{2} + 1 & x_{6}\\\\- \\frac{x_{9}}{2} - \\frac{1}{2} & - \\frac{x_{9}}{2} - \\frac{1}{2} & x_{9}\\end{matrix}\\right]$$",
            "text/plain": [
              "⎡  x₃        x₃        ⎤\n",
              "⎢- ── - 1  - ── - 2  x₃⎥\n",
              "⎢  2         2         ⎥\n",
              "⎢                      ⎥\n",
              "⎢  -x₆       x₆        ⎥\n",
              "⎢  ────    - ── + 1  x₆⎥\n",
              "⎢   2        2         ⎥\n",
              "⎢                      ⎥\n",
              "⎢  x₉   1    x₉   1    ⎥\n",
              "⎢- ── - ─  - ── - ─  x₉⎥\n",
              "⎣  2    2    2    2    ⎦"
            ]
          },
          "metadata": {
            "tags": []
          },
          "execution_count": 9
        }
      ]
    },
    {
      "metadata": {
        "id": "8VGVsdSxx3jh",
        "colab_type": "code",
        "colab": {}
      },
      "cell_type": "code",
      "source": [
        "Msol.eigenvals()"
      ],
      "execution_count": 0,
      "outputs": []
    },
    {
      "metadata": {
        "id": "DPU0-8YVu9Fv",
        "colab_type": "code",
        "colab": {
          "base_uri": "https://localhost:8080/",
          "height": 112
        },
        "outputId": "446d0cb6-e14c-4b11-b5d0-2447b7112f27"
      },
      "cell_type": "code",
      "source": [
        "vM = Matrix([[4],[2],[3]])\n",
        "vM"
      ],
      "execution_count": 23,
      "outputs": [
        {
          "output_type": "display_data",
          "data": {
            "text/html": [
              "<script src='https://cdnjs.cloudflare.com/ajax/libs/mathjax/2.7.3/latest.js?config=default'></script>"
            ],
            "text/plain": [
              "<IPython.core.display.HTML object>"
            ]
          },
          "metadata": {
            "tags": []
          }
        },
        {
          "output_type": "execute_result",
          "data": {
            "text/latex": "$$\\left[\\begin{matrix}4\\\\2\\\\3\\end{matrix}\\right]$$",
            "text/plain": [
              "⎡4⎤\n",
              "⎢ ⎥\n",
              "⎢2⎥\n",
              "⎢ ⎥\n",
              "⎣3⎦"
            ]
          },
          "metadata": {
            "tags": []
          },
          "execution_count": 23
        }
      ]
    },
    {
      "metadata": {
        "id": "JcdI_JmgvPSw",
        "colab_type": "code",
        "colab": {
          "base_uri": "https://localhost:8080/",
          "height": 112
        },
        "outputId": "daed2574-7e15-4853-e971-5a0c33ec530d"
      },
      "cell_type": "code",
      "source": [
        "# Msol**2*vM\n",
        "Msol.subs(x3,1).subs(x6,1).subs(x9,2)**999*vM"
      ],
      "execution_count": 28,
      "outputs": [
        {
          "output_type": "display_data",
          "data": {
            "text/html": [
              "<script src='https://cdnjs.cloudflare.com/ajax/libs/mathjax/2.7.3/latest.js?config=default'></script>"
            ],
            "text/plain": [
              "<IPython.core.display.HTML object>"
            ]
          },
          "metadata": {
            "tags": []
          }
        },
        {
          "output_type": "execute_result",
          "data": {
            "text/latex": "$$\\left[\\begin{matrix}-8\\\\2\\\\-3\\end{matrix}\\right]$$",
            "text/plain": [
              "⎡-8⎤\n",
              "⎢  ⎥\n",
              "⎢2 ⎥\n",
              "⎢  ⎥\n",
              "⎣-3⎦"
            ]
          },
          "metadata": {
            "tags": []
          },
          "execution_count": 28
        }
      ]
    },
    {
      "metadata": {
        "id": "wVHbePCXvqnM",
        "colab_type": "code",
        "colab": {
          "base_uri": "https://localhost:8080/",
          "height": 143
        },
        "outputId": "69691a58-48fc-4744-9c6a-dadd10c77b80"
      },
      "cell_type": "code",
      "source": [
        "P,D = MatrixSymbol(\"P\",3,3),MatrixSymbol(\"D\",3,3)\n",
        "P_val,D_val = Msol.diagonalize()\n",
        "[P_val,D_val]"
      ],
      "execution_count": 48,
      "outputs": [
        {
          "output_type": "display_data",
          "data": {
            "text/html": [
              "<script src='https://cdnjs.cloudflare.com/ajax/libs/mathjax/2.7.3/latest.js?config=default'></script>"
            ],
            "text/plain": [
              "<IPython.core.display.HTML object>"
            ]
          },
          "metadata": {
            "tags": []
          }
        },
        {
          "output_type": "execute_result",
          "data": {
            "text/latex": "$$\\left [ \\left[\\begin{matrix}2 & -1 & \\frac{x_{3}^{2} + x_{3} x_{6} - 2 x_{3} x_{9} + 2 x_{3} + 4 x_{6}}{x_{3} x_{9} + x_{3} + x_{6} x_{9} + x_{6} - 2 x_{9}^{2} + 2}\\\\0 & 1 & \\frac{x_{6} \\left(x_{3} + x_{6} - 2 x_{9} - 2\\right)}{x_{3} x_{9} + x_{3} + x_{6} x_{9} + x_{6} - 2 x_{9}^{2} + 2}\\\\1 & 0 & 1\\end{matrix}\\right], \\quad \\left[\\begin{matrix}-1 & 0 & 0\\\\0 & 1 & 0\\\\0 & 0 & - \\frac{x_{3}}{2} - \\frac{x_{6}}{2} + x_{9}\\end{matrix}\\right]\\right ]$$",
            "text/plain": [
              "⎡⎡         2                                ⎤                         ⎤\n",
              "⎢⎢       x₃  + x₃⋅x₆ - 2⋅x₃⋅x₉ + 2⋅x₃ + 4⋅x₆⎥                         ⎥\n",
              "⎢⎢2  -1  ───────────────────────────────────⎥                         ⎥\n",
              "⎢⎢                                     2    ⎥  ⎡-1  0        0       ⎤⎥\n",
              "⎢⎢       x₃⋅x₉ + x₃ + x₆⋅x₉ + x₆ - 2⋅x₉  + 2⎥  ⎢                     ⎥⎥\n",
              "⎢⎢                                          ⎥  ⎢0   1        0       ⎥⎥\n",
              "⎢⎢             x₆⋅(x₃ + x₆ - 2⋅x₉ - 2)      ⎥, ⎢                     ⎥⎥\n",
              "⎢⎢0  1   ───────────────────────────────────⎥  ⎢         x₃   x₆     ⎥⎥\n",
              "⎢⎢                                     2    ⎥  ⎢0   0  - ── - ── + x₉⎥⎥\n",
              "⎢⎢       x₃⋅x₉ + x₃ + x₆⋅x₉ + x₆ - 2⋅x₉  + 2⎥  ⎣         2    2      ⎦⎥\n",
              "⎢⎢                                          ⎥                         ⎥\n",
              "⎣⎣1  0                    1                 ⎦                         ⎦"
            ]
          },
          "metadata": {
            "tags": []
          },
          "execution_count": 48
        }
      ]
    },
    {
      "metadata": {
        "id": "6bGvIY5b2e1F",
        "colab_type": "code",
        "colab": {
          "base_uri": "https://localhost:8080/",
          "height": 125
        },
        "outputId": "ae635bf0-744b-42b7-dd2a-4b7c00fd1071"
      },
      "cell_type": "code",
      "source": [
        "Eq(P*D*P**-1,Msol,evaluate=False)"
      ],
      "execution_count": 52,
      "outputs": [
        {
          "output_type": "display_data",
          "data": {
            "text/html": [
              "<script src='https://cdnjs.cloudflare.com/ajax/libs/mathjax/2.7.3/latest.js?config=default'></script>"
            ],
            "text/plain": [
              "<IPython.core.display.HTML object>"
            ]
          },
          "metadata": {
            "tags": []
          }
        },
        {
          "output_type": "execute_result",
          "data": {
            "text/latex": "$$P D P^{-1} = \\left[\\begin{matrix}- \\frac{x_{3}}{2} - 1 & - \\frac{x_{3}}{2} - 2 & x_{3}\\\\- \\frac{x_{6}}{2} & - \\frac{x_{6}}{2} + 1 & x_{6}\\\\- \\frac{x_{9}}{2} - \\frac{1}{2} & - \\frac{x_{9}}{2} - \\frac{1}{2} & x_{9}\\end{matrix}\\right]$$",
            "text/plain": [
              "          ⎡  x₃        x₃        ⎤\n",
              "          ⎢- ── - 1  - ── - 2  x₃⎥\n",
              "          ⎢  2         2         ⎥\n",
              "          ⎢                      ⎥\n",
              "     -1   ⎢  -x₆       x₆        ⎥\n",
              "P⋅D⋅P   = ⎢  ────    - ── + 1  x₆⎥\n",
              "          ⎢   2        2         ⎥\n",
              "          ⎢                      ⎥\n",
              "          ⎢  x₉   1    x₉   1    ⎥\n",
              "          ⎢- ── - ─  - ── - ─  x₉⎥\n",
              "          ⎣  2    2    2    2    ⎦"
            ]
          },
          "metadata": {
            "tags": []
          },
          "execution_count": 52
        }
      ]
    },
    {
      "metadata": {
        "id": "uF0cpIVt3irq",
        "colab_type": "code",
        "colab": {
          "base_uri": "https://localhost:8080/",
          "height": 51
        },
        "outputId": "58bb7bf5-170a-4752-a3d6-cb7dc0031b13"
      },
      "cell_type": "code",
      "source": [
        "Eq(D,P**-1 * Msol * P).subs(D,D_val)"
      ],
      "execution_count": 61,
      "outputs": [
        {
          "output_type": "display_data",
          "data": {
            "text/html": [
              "<script src='https://cdnjs.cloudflare.com/ajax/libs/mathjax/2.7.3/latest.js?config=default'></script>"
            ],
            "text/plain": [
              "<IPython.core.display.HTML object>"
            ]
          },
          "metadata": {
            "tags": []
          }
        },
        {
          "output_type": "execute_result",
          "data": {
            "text/latex": "$$\\left[\\begin{matrix}-1 & 0 & 0\\\\0 & 1 & 0\\\\0 & 0 & - \\frac{x_{3}}{2} - \\frac{x_{6}}{2} + x_{9}\\end{matrix}\\right] = P^{-1} \\left[\\begin{matrix}- \\frac{x_{3}}{2} - 1 & - \\frac{x_{3}}{2} - 2 & x_{3}\\\\- \\frac{x_{6}}{2} & - \\frac{x_{6}}{2} + 1 & x_{6}\\\\- \\frac{x_{9}}{2} - \\frac{1}{2} & - \\frac{x_{9}}{2} - \\frac{1}{2} & x_{9}\\end{matrix}\\right] P$$",
            "text/plain": [
              "                              ⎡  x₃        x₃        ⎤  \n",
              "                              ⎢- ── - 1  - ── - 2  x₃⎥  \n",
              "⎡-1  0        0       ⎤       ⎢  2         2         ⎥  \n",
              "⎢                     ⎥       ⎢                      ⎥  \n",
              "⎢0   1        0       ⎥    -1 ⎢  -x₆       x₆        ⎥  \n",
              "⎢                     ⎥ = P  ⋅⎢  ────    - ── + 1  x₆⎥⋅P\n",
              "⎢         x₃   x₆     ⎥       ⎢   2        2         ⎥  \n",
              "⎢0   0  - ── - ── + x₉⎥       ⎢                      ⎥  \n",
              "⎣         2    2      ⎦       ⎢  x₉   1    x₉   1    ⎥  \n",
              "                              ⎢- ── - ─  - ── - ─  x₉⎥  \n",
              "                              ⎣  2    2    2    2    ⎦  "
            ]
          },
          "metadata": {
            "tags": []
          },
          "execution_count": 61
        }
      ]
    },
    {
      "metadata": {
        "id": "I6Si1tm-8vNn",
        "colab_type": "code",
        "colab": {}
      },
      "cell_type": "code",
      "source": [
        ""
      ],
      "execution_count": 0,
      "outputs": []
    }
  ]
}