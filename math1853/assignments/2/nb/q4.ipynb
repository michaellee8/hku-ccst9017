{
  "nbformat": 4,
  "nbformat_minor": 0,
  "metadata": {
    "colab": {
      "name": "q4.ipynb",
      "version": "0.3.2",
      "provenance": [],
      "include_colab_link": true
    },
    "kernelspec": {
      "name": "python3",
      "display_name": "Python 3"
    }
  },
  "cells": [
    {
      "cell_type": "markdown",
      "metadata": {
        "id": "view-in-github",
        "colab_type": "text"
      },
      "source": [
        "[View in Colaboratory](https://colab.research.google.com/github/michaellee8/hku-ccst9017/blob/master/hku-math1853-assignment-2/nb/q4.ipynb)"
      ]
    },
    {
      "metadata": {
        "id": "tMuidTWbB97r",
        "colab_type": "code",
        "colab": {}
      },
      "cell_type": "code",
      "source": [
        "# Initialize environment\n",
        "import os\n",
        "from sympy import *\n",
        "import sympy \n",
        "# from google.colab.output._publish import javascript\n",
        "# url = \"https://cdnjs.cloudflare.com/ajax/libs/mathjax/2.7.3/latest.js?config=default\"\n",
        "# javascript(url=url)\n",
        "if \"DATALAB_SETTINGS_OVERRIDES\" in os.environ:\n",
        "    def custom_latex_printer(exp,**options):\n",
        "        from google.colab.output._publish import javascript\n",
        "        url = \"https://cdnjs.cloudflare.com/ajax/libs/mathjax/2.7.3/latest.js?config=default\"\n",
        "        javascript(url=url)\n",
        "        return sympy.printing.latex(exp,**options)\n",
        "    init_printing(use_latex=\"mathjax\",latex_printer=custom_latex_printer)\n",
        "#     !pip install sympy\n",
        "else:\n",
        "  init_printing()\n",
        "\n"
      ],
      "execution_count": 0,
      "outputs": []
    },
    {
      "metadata": {
        "id": "wx084daKCYVg",
        "colab_type": "code",
        "colab": {
          "base_uri": "https://localhost:8080/",
          "height": 136
        },
        "outputId": "93d0aa0e-419d-4f0d-e5cb-28488fee86c3"
      },
      "cell_type": "code",
      "source": [
        "M = Matrix([[0,0,0,0],[1,2,3,4],[0,0,0,0],[1,2,3,4]])\n",
        "M"
      ],
      "execution_count": 3,
      "outputs": [
        {
          "output_type": "display_data",
          "data": {
            "text/html": [
              "<script src='https://cdnjs.cloudflare.com/ajax/libs/mathjax/2.7.3/latest.js?config=default'></script>"
            ],
            "text/plain": [
              "<IPython.core.display.HTML object>"
            ]
          },
          "metadata": {
            "tags": []
          }
        },
        {
          "output_type": "execute_result",
          "data": {
            "text/latex": "$$\\left[\\begin{matrix}0 & 0 & 0 & 0\\\\1 & 2 & 3 & 4\\\\0 & 0 & 0 & 0\\\\1 & 2 & 3 & 4\\end{matrix}\\right]$$",
            "text/plain": [
              "⎡0  0  0  0⎤\n",
              "⎢          ⎥\n",
              "⎢1  2  3  4⎥\n",
              "⎢          ⎥\n",
              "⎢0  0  0  0⎥\n",
              "⎢          ⎥\n",
              "⎣1  2  3  4⎦"
            ]
          },
          "metadata": {
            "tags": []
          },
          "execution_count": 3
        }
      ]
    },
    {
      "metadata": {
        "id": "-7LAVWOfCs0o",
        "colab_type": "code",
        "colab": {
          "base_uri": "https://localhost:8080/",
          "height": 64
        },
        "outputId": "6b751b6e-f9f3-46dc-e176-f4b2317c06e4"
      },
      "cell_type": "code",
      "source": [
        "M.eigenvals()"
      ],
      "execution_count": 4,
      "outputs": [
        {
          "output_type": "display_data",
          "data": {
            "text/html": [
              "<script src='https://cdnjs.cloudflare.com/ajax/libs/mathjax/2.7.3/latest.js?config=default'></script>"
            ],
            "text/plain": [
              "<IPython.core.display.HTML object>"
            ]
          },
          "metadata": {
            "tags": []
          }
        },
        {
          "output_type": "execute_result",
          "data": {
            "text/latex": "$$\\left \\{ 0 : 3, \\quad 6 : 1\\right \\}$$",
            "text/plain": [
              "{0: 3, 6: 1}"
            ]
          },
          "metadata": {
            "tags": []
          },
          "execution_count": 4
        }
      ]
    },
    {
      "metadata": {
        "id": "UqRJpY7GCxw_",
        "colab_type": "code",
        "colab": {
          "base_uri": "https://localhost:8080/",
          "height": 136
        },
        "outputId": "4c97d1fc-4411-467b-deb8-ea7ba89365b7"
      },
      "cell_type": "code",
      "source": [
        "M.eigenvects()"
      ],
      "execution_count": 5,
      "outputs": [
        {
          "output_type": "display_data",
          "data": {
            "text/html": [
              "<script src='https://cdnjs.cloudflare.com/ajax/libs/mathjax/2.7.3/latest.js?config=default'></script>"
            ],
            "text/plain": [
              "<IPython.core.display.HTML object>"
            ]
          },
          "metadata": {
            "tags": []
          }
        },
        {
          "output_type": "execute_result",
          "data": {
            "text/latex": "$$\\left [ \\left ( 0, \\quad 3, \\quad \\left [ \\left[\\begin{matrix}-2\\\\1\\\\0\\\\0\\end{matrix}\\right], \\quad \\left[\\begin{matrix}-3\\\\0\\\\1\\\\0\\end{matrix}\\right], \\quad \\left[\\begin{matrix}-4\\\\0\\\\0\\\\1\\end{matrix}\\right]\\right ]\\right ), \\quad \\left ( 6, \\quad 1, \\quad \\left [ \\left[\\begin{matrix}0\\\\1\\\\0\\\\1\\end{matrix}\\right]\\right ]\\right )\\right ]$$",
            "text/plain": [
              "⎡⎛      ⎡⎡-2⎤  ⎡-3⎤  ⎡-4⎤⎤⎞  ⎛      ⎡⎡0⎤⎤⎞⎤\n",
              "⎢⎜      ⎢⎢  ⎥  ⎢  ⎥  ⎢  ⎥⎥⎟  ⎜      ⎢⎢ ⎥⎥⎟⎥\n",
              "⎢⎜      ⎢⎢1 ⎥  ⎢0 ⎥  ⎢0 ⎥⎥⎟  ⎜      ⎢⎢1⎥⎥⎟⎥\n",
              "⎢⎜0, 3, ⎢⎢  ⎥, ⎢  ⎥, ⎢  ⎥⎥⎟, ⎜6, 1, ⎢⎢ ⎥⎥⎟⎥\n",
              "⎢⎜      ⎢⎢0 ⎥  ⎢1 ⎥  ⎢0 ⎥⎥⎟  ⎜      ⎢⎢0⎥⎥⎟⎥\n",
              "⎢⎜      ⎢⎢  ⎥  ⎢  ⎥  ⎢  ⎥⎥⎟  ⎜      ⎢⎢ ⎥⎥⎟⎥\n",
              "⎣⎝      ⎣⎣0 ⎦  ⎣0 ⎦  ⎣1 ⎦⎦⎠  ⎝      ⎣⎣1⎦⎦⎠⎦"
            ]
          },
          "metadata": {
            "tags": []
          },
          "execution_count": 5
        }
      ]
    },
    {
      "metadata": {
        "id": "Adm4ncn4C33O",
        "colab_type": "code",
        "colab": {
          "base_uri": "https://localhost:8080/",
          "height": 66
        },
        "outputId": "79b71c2f-11e3-4e65-e11d-289e4bea514a"
      },
      "cell_type": "code",
      "source": [
        "lamda = symbols(\"lamda\")\n",
        "factor((M-lamda*eye(4)).det() )"
      ],
      "execution_count": 11,
      "outputs": [
        {
          "output_type": "display_data",
          "data": {
            "text/html": [
              "<script src='https://cdnjs.cloudflare.com/ajax/libs/mathjax/2.7.3/latest.js?config=default'></script>"
            ],
            "text/plain": [
              "<IPython.core.display.HTML object>"
            ]
          },
          "metadata": {
            "tags": []
          }
        },
        {
          "output_type": "execute_result",
          "data": {
            "text/latex": "$$\\lambda^{3} \\left(\\lambda - 6\\right)$$",
            "text/plain": [
              " 3        \n",
              "λ ⋅(λ - 6)"
            ]
          },
          "metadata": {
            "tags": []
          },
          "execution_count": 11
        }
      ]
    },
    {
      "metadata": {
        "id": "knD_k_MXDJ8n",
        "colab_type": "code",
        "colab": {}
      },
      "cell_type": "code",
      "source": [
        ""
      ],
      "execution_count": 0,
      "outputs": []
    }
  ]
}