{
  "nbformat": 4,
  "nbformat_minor": 0,
  "metadata": {
    "colab": {
      "name": "Untitled0.ipynb",
      "version": "0.3.2",
      "provenance": [],
      "collapsed_sections": [],
      "include_colab_link": true
    },
    "kernelspec": {
      "display_name": "Python 3",
      "language": "python",
      "name": "python3"
    }
  },
  "cells": [
    {
      "cell_type": "markdown",
      "metadata": {
        "id": "view-in-github",
        "colab_type": "text"
      },
      "source": [
        "[View in Colaboratory](https://colab.research.google.com/github/michaellee8/hku-ccst9017/blob/master/hku-math1853-assignment-2/nb/q2.ipynb)"
      ]
    },
    {
      "metadata": {
        "cellView": "code",
        "colab_type": "code",
        "id": "TOO2om8NIADI",
        "colab": {}
      },
      "cell_type": "code",
      "source": [
        "# Initialize environment\n",
        "import os\n",
        "from sympy import *\n",
        "import sympy \n",
        "# from google.colab.output._publish import javascript\n",
        "# url = \"https://cdnjs.cloudflare.com/ajax/libs/mathjax/2.7.3/latest.js?config=default\"\n",
        "# javascript(url=url)\n",
        "if \"DATALAB_SETTINGS_OVERRIDES\" in os.environ:\n",
        "    def custom_latex_printer(exp,**options):\n",
        "        from google.colab.output._publish import javascript\n",
        "        url = \"https://cdnjs.cloudflare.com/ajax/libs/mathjax/2.7.3/latest.js?config=default\"\n",
        "        javascript(url=url)\n",
        "        return sympy.printing.latex(exp,**options)\n",
        "    init_printing(use_latex=\"mathjax\",latex_printer=custom_latex_printer)\n",
        "#     !pip install sympy\n",
        "else:\n",
        "  init_printing()\n",
        "\n"
      ],
      "execution_count": 0,
      "outputs": []
    },
    {
      "metadata": {
        "colab_type": "code",
        "id": "RYVc8VJSv50R",
        "outputId": "47feab34-b516-4517-9ce9-324397c0aebf",
        "colab": {
          "base_uri": "https://localhost:8080/",
          "height": 111
        }
      },
      "cell_type": "code",
      "source": [
        "\n",
        "lamda1,v1=1,Matrix([[1],[-1],[0]])\n",
        "\n",
        "(lamda1,v1)"
      ],
      "execution_count": 4,
      "outputs": [
        {
          "output_type": "display_data",
          "data": {
            "text/html": [
              "<script src='https://cdnjs.cloudflare.com/ajax/libs/mathjax/2.7.3/latest.js?config=default'></script>"
            ],
            "text/plain": [
              "<IPython.core.display.HTML object>"
            ]
          },
          "metadata": {
            "tags": []
          }
        },
        {
          "output_type": "execute_result",
          "data": {
            "text/latex": "$$\\left ( 1, \\quad \\left[\\begin{matrix}1\\\\-1\\\\0\\end{matrix}\\right]\\right )$$",
            "text/plain": [
              "⎛   ⎡1 ⎤⎞\n",
              "⎜   ⎢  ⎥⎟\n",
              "⎜1, ⎢-1⎥⎟\n",
              "⎜   ⎢  ⎥⎟\n",
              "⎝   ⎣0 ⎦⎠"
            ]
          },
          "metadata": {
            "tags": []
          },
          "execution_count": 4
        }
      ]
    },
    {
      "metadata": {
        "colab_type": "code",
        "id": "Bj0fQOQvLuJK",
        "outputId": "f7e1ef26-f905-4895-966f-5fd3e43fddb8",
        "colab": {
          "base_uri": "https://localhost:8080/",
          "height": 111
        }
      },
      "cell_type": "code",
      "source": [
        "lamda2,v2=-1,Matrix([[2],[0],[1]])\n",
        "(lamda2,v2)"
      ],
      "execution_count": 5,
      "outputs": [
        {
          "output_type": "display_data",
          "data": {
            "text/html": [
              "<script src='https://cdnjs.cloudflare.com/ajax/libs/mathjax/2.7.3/latest.js?config=default'></script>"
            ],
            "text/plain": [
              "<IPython.core.display.HTML object>"
            ]
          },
          "metadata": {
            "tags": []
          }
        },
        {
          "output_type": "execute_result",
          "data": {
            "text/latex": "$$\\left ( -1, \\quad \\left[\\begin{matrix}2\\\\0\\\\1\\end{matrix}\\right]\\right )$$",
            "text/plain": [
              "⎛    ⎡2⎤⎞\n",
              "⎜    ⎢ ⎥⎟\n",
              "⎜-1, ⎢0⎥⎟\n",
              "⎜    ⎢ ⎥⎟\n",
              "⎝    ⎣1⎦⎠"
            ]
          },
          "metadata": {
            "tags": []
          },
          "execution_count": 5
        }
      ]
    },
    {
      "metadata": {
        "colab_type": "code",
        "id": "PyBpW3RsM5l6",
        "outputId": "43abf9e0-2688-43e3-8e1d-d80b4ae4b498",
        "colab": {
          "base_uri": "https://localhost:8080/",
          "height": 111
        }
      },
      "cell_type": "code",
      "source": [
        "x1,x2,x3,x4,x5,x6,x7,x8,x9 = symbols(\"x_1 x_2 x_3 x_4 x_5 x_6 x_7 x_8 x_9\")\n",
        "A=Matrix([[x1,x2,x3],[x4,x5,x6],[x7,x8,x9]])\n",
        "# A=MatrixSymbol('A',3,3)\n",
        "Matrix(A)"
      ],
      "execution_count": 6,
      "outputs": [
        {
          "output_type": "display_data",
          "data": {
            "text/html": [
              "<script src='https://cdnjs.cloudflare.com/ajax/libs/mathjax/2.7.3/latest.js?config=default'></script>"
            ],
            "text/plain": [
              "<IPython.core.display.HTML object>"
            ]
          },
          "metadata": {
            "tags": []
          }
        },
        {
          "output_type": "execute_result",
          "data": {
            "text/latex": "$$\\left[\\begin{matrix}x_{1} & x_{2} & x_{3}\\\\x_{4} & x_{5} & x_{6}\\\\x_{7} & x_{8} & x_{9}\\end{matrix}\\right]$$",
            "text/plain": [
              "⎡x₁  x₂  x₃⎤\n",
              "⎢          ⎥\n",
              "⎢x₄  x₅  x₆⎥\n",
              "⎢          ⎥\n",
              "⎣x₇  x₈  x₉⎦"
            ]
          },
          "metadata": {
            "tags": []
          },
          "execution_count": 6
        }
      ]
    },
    {
      "metadata": {
        "colab_type": "code",
        "id": "659chnkXPIEO",
        "outputId": "4eae4760-de62-4212-c657-cc25d18c0858",
        "colab": {
          "base_uri": "https://localhost:8080/",
          "height": 64
        }
      },
      "cell_type": "code",
      "source": [
        "solve([(A-lamda1*eye(3))*v1,(A-lamda2*eye(3))*v2],[A])"
      ],
      "execution_count": 7,
      "outputs": [
        {
          "output_type": "display_data",
          "data": {
            "text/html": [
              "<script src='https://cdnjs.cloudflare.com/ajax/libs/mathjax/2.7.3/latest.js?config=default'></script>"
            ],
            "text/plain": [
              "<IPython.core.display.HTML object>"
            ]
          },
          "metadata": {
            "tags": []
          }
        },
        {
          "output_type": "execute_result",
          "data": {
            "text/latex": "$$\\left [ \\right ]$$",
            "text/plain": [
              "[]"
            ]
          },
          "metadata": {
            "tags": []
          },
          "execution_count": 7
        }
      ]
    },
    {
      "metadata": {
        "colab_type": "code",
        "id": "SPF8V8uiXNx1",
        "outputId": "aca4c6b2-12a6-4c8e-a0cb-66e6edbe6e40",
        "colab": {
          "base_uri": "https://localhost:8080/",
          "height": 111
        }
      },
      "cell_type": "code",
      "source": [
        "A_m1 = (A-lamda1*eye(3))*v1\n",
        "Eq(A_m1,0,evaluate=False)"
      ],
      "execution_count": 8,
      "outputs": [
        {
          "output_type": "display_data",
          "data": {
            "text/html": [
              "<script src='https://cdnjs.cloudflare.com/ajax/libs/mathjax/2.7.3/latest.js?config=default'></script>"
            ],
            "text/plain": [
              "<IPython.core.display.HTML object>"
            ]
          },
          "metadata": {
            "tags": []
          }
        },
        {
          "output_type": "execute_result",
          "data": {
            "text/latex": "$$\\left[\\begin{matrix}x_{1} - x_{2} - 1\\\\x_{4} - x_{5} + 1\\\\x_{7} - x_{8}\\end{matrix}\\right] = 0$$",
            "text/plain": [
              "⎡x₁ - x₂ - 1⎤    \n",
              "⎢           ⎥    \n",
              "⎢x₄ - x₅ + 1⎥ = 0\n",
              "⎢           ⎥    \n",
              "⎣  x₇ - x₈  ⎦    "
            ]
          },
          "metadata": {
            "tags": []
          },
          "execution_count": 8
        }
      ]
    },
    {
      "metadata": {
        "colab_type": "code",
        "id": "pARdCWBKo3Ca",
        "outputId": "628ec3af-5409-4ae1-dfa7-cb65585d722b",
        "colab": {
          "base_uri": "https://localhost:8080/",
          "height": 111
        }
      },
      "cell_type": "code",
      "source": [
        "A_m2 = (A-lamda2*eye(3))*v2\n",
        "Eq(A_m2,0,evaluate=False)\n"
      ],
      "execution_count": 9,
      "outputs": [
        {
          "output_type": "display_data",
          "data": {
            "text/html": [
              "<script src='https://cdnjs.cloudflare.com/ajax/libs/mathjax/2.7.3/latest.js?config=default'></script>"
            ],
            "text/plain": [
              "<IPython.core.display.HTML object>"
            ]
          },
          "metadata": {
            "tags": []
          }
        },
        {
          "output_type": "execute_result",
          "data": {
            "text/latex": "$$\\left[\\begin{matrix}2 x_{1} + x_{3} + 2\\\\2 x_{4} + x_{6}\\\\2 x_{7} + x_{9} + 1\\end{matrix}\\right] = 0$$",
            "text/plain": [
              "⎡2⋅x₁ + x₃ + 2⎤    \n",
              "⎢             ⎥    \n",
              "⎢  2⋅x₄ + x₆  ⎥ = 0\n",
              "⎢             ⎥    \n",
              "⎣2⋅x₇ + x₉ + 1⎦    "
            ]
          },
          "metadata": {
            "tags": []
          },
          "execution_count": 9
        }
      ]
    },
    {
      "metadata": {
        "id": "wma6qozXandT",
        "colab_type": "code",
        "outputId": "6cafa5c7-31ec-4e02-a307-d482c448bd18",
        "colab": {
          "base_uri": "https://localhost:8080/",
          "height": 64
        }
      },
      "cell_type": "code",
      "source": [
        "[i for i in A_m1.col(0)]+[j for j in A_m2.col(0)]"
      ],
      "execution_count": 10,
      "outputs": [
        {
          "output_type": "display_data",
          "data": {
            "text/html": [
              "<script src='https://cdnjs.cloudflare.com/ajax/libs/mathjax/2.7.3/latest.js?config=default'></script>"
            ],
            "text/plain": [
              "<IPython.core.display.HTML object>"
            ]
          },
          "metadata": {
            "tags": []
          }
        },
        {
          "output_type": "execute_result",
          "data": {
            "text/latex": "$$\\left [ x_{1} - x_{2} - 1, \\quad x_{4} - x_{5} + 1, \\quad x_{7} - x_{8}, \\quad 2 x_{1} + x_{3} + 2, \\quad 2 x_{4} + x_{6}, \\quad 2 x_{7} + x_{9} + 1\\right ]$$",
            "text/plain": [
              "[x₁ - x₂ - 1, x₄ - x₅ + 1, x₇ - x₈, 2⋅x₁ + x₃ + 2, 2⋅x₄ + x₆, 2⋅x₇ + x₉ + 1]"
            ]
          },
          "metadata": {
            "tags": []
          },
          "execution_count": 10
        }
      ]
    },
    {
      "metadata": {
        "colab_type": "code",
        "id": "vSeCb4zOptFC",
        "outputId": "396aa592-2554-401e-a5b1-c8d0dcffc5fc",
        "colab": {
          "base_uri": "https://localhost:8080/",
          "height": 87
        }
      },
      "cell_type": "code",
      "source": [
        "sol = list(linsolve([i for i in A_m1.col(0)]+[j for j in A_m2.col(0)],[x for x in A]))[0]\n",
        "sol"
      ],
      "execution_count": 11,
      "outputs": [
        {
          "output_type": "display_data",
          "data": {
            "text/html": [
              "<script src='https://cdnjs.cloudflare.com/ajax/libs/mathjax/2.7.3/latest.js?config=default'></script>"
            ],
            "text/plain": [
              "<IPython.core.display.HTML object>"
            ]
          },
          "metadata": {
            "tags": []
          }
        },
        {
          "output_type": "execute_result",
          "data": {
            "text/latex": "$$\\left ( - \\frac{x_{3}}{2} - 1, \\quad - \\frac{x_{3}}{2} - 2, \\quad x_{3}, \\quad - \\frac{x_{6}}{2}, \\quad - \\frac{x_{6}}{2} + 1, \\quad x_{6}, \\quad - \\frac{x_{9}}{2} - \\frac{1}{2}, \\quad - \\frac{x_{9}}{2} - \\frac{1}{2}, \\quad x_{9}\\right )$$",
            "text/plain": [
              "⎛  x₃        x₃          -x₆     x₆            x₉   1    x₉   1    ⎞\n",
              "⎜- ── - 1, - ── - 2, x₃, ────, - ── + 1, x₆, - ── - ─, - ── - ─, x₉⎟\n",
              "⎝  2         2            2      2             2    2    2    2    ⎠"
            ]
          },
          "metadata": {
            "tags": []
          },
          "execution_count": 11
        }
      ]
    },
    {
      "metadata": {
        "colab_type": "code",
        "id": "A2aKZQqZp0On",
        "outputId": "2352c920-fa1d-4d81-fa68-52838b32d740",
        "colab": {
          "base_uri": "https://localhost:8080/",
          "height": 124
        }
      },
      "cell_type": "code",
      "source": [
        "Msol = Matrix([sol[i:i+3] for i  in range(0, len(sol), 3)])\n",
        "Msol"
      ],
      "execution_count": 12,
      "outputs": [
        {
          "output_type": "display_data",
          "data": {
            "text/html": [
              "<script src='https://cdnjs.cloudflare.com/ajax/libs/mathjax/2.7.3/latest.js?config=default'></script>"
            ],
            "text/plain": [
              "<IPython.core.display.HTML object>"
            ]
          },
          "metadata": {
            "tags": []
          }
        },
        {
          "output_type": "execute_result",
          "data": {
            "text/latex": "$$\\left[\\begin{matrix}- \\frac{x_{3}}{2} - 1 & - \\frac{x_{3}}{2} - 2 & x_{3}\\\\- \\frac{x_{6}}{2} & - \\frac{x_{6}}{2} + 1 & x_{6}\\\\- \\frac{x_{9}}{2} - \\frac{1}{2} & - \\frac{x_{9}}{2} - \\frac{1}{2} & x_{9}\\end{matrix}\\right]$$",
            "text/plain": [
              "⎡  x₃        x₃        ⎤\n",
              "⎢- ── - 1  - ── - 2  x₃⎥\n",
              "⎢  2         2         ⎥\n",
              "⎢                      ⎥\n",
              "⎢  -x₆       x₆        ⎥\n",
              "⎢  ────    - ── + 1  x₆⎥\n",
              "⎢   2        2         ⎥\n",
              "⎢                      ⎥\n",
              "⎢  x₉   1    x₉   1    ⎥\n",
              "⎢- ── - ─  - ── - ─  x₉⎥\n",
              "⎣  2    2    2    2    ⎦"
            ]
          },
          "metadata": {
            "tags": []
          },
          "execution_count": 12
        }
      ]
    },
    {
      "metadata": {
        "scrolled": true,
        "id": "__9F0x5Sandg",
        "colab_type": "code",
        "outputId": "e93d0d39-4d28-439f-8bc6-5a3923067be5",
        "colab": {
          "base_uri": "https://localhost:8080/",
          "height": 116
        }
      },
      "cell_type": "code",
      "source": [
        "Asol = Msol.subs(x3,2).subs(x6,2).subs(x9,2)\n",
        "Asol"
      ],
      "execution_count": 13,
      "outputs": [
        {
          "output_type": "display_data",
          "data": {
            "text/html": [
              "<script src='https://cdnjs.cloudflare.com/ajax/libs/mathjax/2.7.3/latest.js?config=default'></script>"
            ],
            "text/plain": [
              "<IPython.core.display.HTML object>"
            ]
          },
          "metadata": {
            "tags": []
          }
        },
        {
          "output_type": "execute_result",
          "data": {
            "text/latex": "$$\\left[\\begin{matrix}-2 & -3 & 2\\\\-1 & 0 & 2\\\\- \\frac{3}{2} & - \\frac{3}{2} & 2\\end{matrix}\\right]$$",
            "text/plain": [
              "⎡ -2    -3   2⎤\n",
              "⎢             ⎥\n",
              "⎢ -1    0    2⎥\n",
              "⎢             ⎥\n",
              "⎣-3/2  -3/2  2⎦"
            ]
          },
          "metadata": {
            "tags": []
          },
          "execution_count": 13
        }
      ]
    },
    {
      "metadata": {
        "id": "_edy_gdATFAE",
        "colab_type": "code",
        "colab": {
          "base_uri": "https://localhost:8080/",
          "height": 116
        },
        "outputId": "159b37df-4260-4c2c-9022-fdabe9c27136"
      },
      "cell_type": "code",
      "source": [
        "Asol.eigenvects()"
      ],
      "execution_count": 22,
      "outputs": [
        {
          "output_type": "display_data",
          "data": {
            "text/html": [
              "<script src='https://cdnjs.cloudflare.com/ajax/libs/mathjax/2.7.3/latest.js?config=default'></script>"
            ],
            "text/plain": [
              "<IPython.core.display.HTML object>"
            ]
          },
          "metadata": {
            "tags": []
          }
        },
        {
          "output_type": "execute_result",
          "data": {
            "text/latex": "$$\\left [ \\left ( -1, \\quad 1, \\quad \\left [ \\left[\\begin{matrix}2\\\\0\\\\1\\end{matrix}\\right]\\right ]\\right ), \\quad \\left ( 0, \\quad 1, \\quad \\left [ \\left[\\begin{matrix}2\\\\- \\frac{2}{3}\\\\1\\end{matrix}\\right]\\right ]\\right ), \\quad \\left ( 1, \\quad 1, \\quad \\left [ \\left[\\begin{matrix}-1\\\\1\\\\0\\end{matrix}\\right]\\right ]\\right )\\right ]$$",
            "text/plain": [
              "⎡⎛       ⎡⎡2⎤⎤⎞  ⎛      ⎡⎡ 2  ⎤⎤⎞  ⎛      ⎡⎡-1⎤⎤⎞⎤\n",
              "⎢⎜       ⎢⎢ ⎥⎥⎟  ⎜      ⎢⎢    ⎥⎥⎟  ⎜      ⎢⎢  ⎥⎥⎟⎥\n",
              "⎢⎜-1, 1, ⎢⎢0⎥⎥⎟, ⎜0, 1, ⎢⎢-2/3⎥⎥⎟, ⎜1, 1, ⎢⎢1 ⎥⎥⎟⎥\n",
              "⎢⎜       ⎢⎢ ⎥⎥⎟  ⎜      ⎢⎢    ⎥⎥⎟  ⎜      ⎢⎢  ⎥⎥⎟⎥\n",
              "⎣⎝       ⎣⎣1⎦⎦⎠  ⎝      ⎣⎣ 1  ⎦⎦⎠  ⎝      ⎣⎣0 ⎦⎦⎠⎦"
            ]
          },
          "metadata": {
            "tags": []
          },
          "execution_count": 22
        }
      ]
    },
    {
      "metadata": {
        "id": "kNq124RySSeO",
        "colab_type": "code",
        "colab": {
          "base_uri": "https://localhost:8080/",
          "height": 87
        },
        "outputId": "bf5866a1-4c31-4455-cccc-798d77a3f388"
      },
      "cell_type": "code",
      "source": [
        "x,y,z=symbols(\"x y z\")\n",
        "linsolve(Asol.col_insert(3,Matrix([0,0,0])),[x,y,z])"
      ],
      "execution_count": 21,
      "outputs": [
        {
          "output_type": "display_data",
          "data": {
            "text/html": [
              "<script src='https://cdnjs.cloudflare.com/ajax/libs/mathjax/2.7.3/latest.js?config=default'></script>"
            ],
            "text/plain": [
              "<IPython.core.display.HTML object>"
            ]
          },
          "metadata": {
            "tags": []
          }
        },
        {
          "output_type": "execute_result",
          "data": {
            "text/latex": "$$\\left\\{\\left ( 2 z, \\quad - \\frac{2 z}{3}, \\quad z\\right )\\right\\}$$",
            "text/plain": [
              "⎧⎛     -2⋅z    ⎞⎫\n",
              "⎨⎜2⋅z, ─────, z⎟⎬\n",
              "⎩⎝       3     ⎠⎭"
            ]
          },
          "metadata": {
            "tags": []
          },
          "execution_count": 21
        }
      ]
    },
    {
      "metadata": {
        "id": "PCSIgtacandk",
        "colab_type": "code",
        "outputId": "cdc7d2aa-5aee-42e4-81a6-0bf34d264b8e",
        "colab": {
          "base_uri": "https://localhost:8080/",
          "height": 64
        }
      },
      "cell_type": "code",
      "source": [
        "lamda = symbols('lamda')\n",
        "factor((Asol-lamda*eye(3)).det())"
      ],
      "execution_count": 14,
      "outputs": [
        {
          "output_type": "display_data",
          "data": {
            "text/html": [
              "<script src='https://cdnjs.cloudflare.com/ajax/libs/mathjax/2.7.3/latest.js?config=default'></script>"
            ],
            "text/plain": [
              "<IPython.core.display.HTML object>"
            ]
          },
          "metadata": {
            "tags": []
          }
        },
        {
          "output_type": "execute_result",
          "data": {
            "text/latex": "$$- \\lambda \\left(\\lambda - 1\\right) \\left(\\lambda + 1\\right)$$",
            "text/plain": [
              "-λ⋅(λ - 1)⋅(λ + 1)"
            ]
          },
          "metadata": {
            "tags": []
          },
          "execution_count": 14
        }
      ]
    },
    {
      "metadata": {
        "colab_type": "code",
        "id": "8VGVsdSxx3jh",
        "outputId": "f357d242-21e7-47b7-bfaf-39e0af6e3256",
        "colab": {
          "base_uri": "https://localhost:8080/",
          "height": 64
        }
      },
      "cell_type": "code",
      "source": [
        "Asol.eigenvals()"
      ],
      "execution_count": 15,
      "outputs": [
        {
          "output_type": "display_data",
          "data": {
            "text/html": [
              "<script src='https://cdnjs.cloudflare.com/ajax/libs/mathjax/2.7.3/latest.js?config=default'></script>"
            ],
            "text/plain": [
              "<IPython.core.display.HTML object>"
            ]
          },
          "metadata": {
            "tags": []
          }
        },
        {
          "output_type": "execute_result",
          "data": {
            "text/latex": "$$\\left \\{ -1 : 1, \\quad 0 : 1, \\quad 1 : 1\\right \\}$$",
            "text/plain": [
              "{-1: 1, 0: 1, 1: 1}"
            ]
          },
          "metadata": {
            "tags": []
          },
          "execution_count": 15
        }
      ]
    },
    {
      "metadata": {
        "colab_type": "code",
        "id": "DPU0-8YVu9Fv",
        "outputId": "b3bfc8dd-4b9f-4637-d341-f466dc213837",
        "colab": {
          "base_uri": "https://localhost:8080/",
          "height": 111
        }
      },
      "cell_type": "code",
      "source": [
        "vM = Matrix([[4],[2],[3]])\n",
        "vM"
      ],
      "execution_count": 16,
      "outputs": [
        {
          "output_type": "display_data",
          "data": {
            "text/html": [
              "<script src='https://cdnjs.cloudflare.com/ajax/libs/mathjax/2.7.3/latest.js?config=default'></script>"
            ],
            "text/plain": [
              "<IPython.core.display.HTML object>"
            ]
          },
          "metadata": {
            "tags": []
          }
        },
        {
          "output_type": "execute_result",
          "data": {
            "text/latex": "$$\\left[\\begin{matrix}4\\\\2\\\\3\\end{matrix}\\right]$$",
            "text/plain": [
              "⎡4⎤\n",
              "⎢ ⎥\n",
              "⎢2⎥\n",
              "⎢ ⎥\n",
              "⎣3⎦"
            ]
          },
          "metadata": {
            "tags": []
          },
          "execution_count": 16
        }
      ]
    },
    {
      "metadata": {
        "colab_type": "code",
        "id": "wVHbePCXvqnM",
        "outputId": "986da7e9-2839-41f7-8245-1bece2b51f7b",
        "colab": {
          "base_uri": "https://localhost:8080/",
          "height": 111
        }
      },
      "cell_type": "code",
      "source": [
        "P,D = MatrixSymbol(\"P\",3,3),MatrixSymbol(\"D\",3,3)\n",
        "P_val,D_val = Asol.diagonalize()\n",
        "[P_val,D_val]"
      ],
      "execution_count": 17,
      "outputs": [
        {
          "output_type": "display_data",
          "data": {
            "text/html": [
              "<script src='https://cdnjs.cloudflare.com/ajax/libs/mathjax/2.7.3/latest.js?config=default'></script>"
            ],
            "text/plain": [
              "<IPython.core.display.HTML object>"
            ]
          },
          "metadata": {
            "tags": []
          }
        },
        {
          "output_type": "execute_result",
          "data": {
            "text/latex": "$$\\left [ \\left[\\begin{matrix}2 & 6 & -1\\\\0 & -2 & 1\\\\1 & 3 & 0\\end{matrix}\\right], \\quad \\left[\\begin{matrix}-1 & 0 & 0\\\\0 & 0 & 0\\\\0 & 0 & 1\\end{matrix}\\right]\\right ]$$",
            "text/plain": [
              "⎡⎡2  6   -1⎤  ⎡-1  0  0⎤⎤\n",
              "⎢⎢         ⎥  ⎢        ⎥⎥\n",
              "⎢⎢0  -2  1 ⎥, ⎢0   0  0⎥⎥\n",
              "⎢⎢         ⎥  ⎢        ⎥⎥\n",
              "⎣⎣1  3   0 ⎦  ⎣0   0  1⎦⎦"
            ]
          },
          "metadata": {
            "tags": []
          },
          "execution_count": 17
        }
      ]
    },
    {
      "metadata": {
        "colab_type": "code",
        "id": "6bGvIY5b2e1F",
        "outputId": "ef699e22-a2f9-46fe-91d9-cc3645503706",
        "colab": {
          "base_uri": "https://localhost:8080/",
          "height": 116
        }
      },
      "cell_type": "code",
      "source": [
        "Eq(P*D*P**-1,Asol,evaluate=False)"
      ],
      "execution_count": 18,
      "outputs": [
        {
          "output_type": "display_data",
          "data": {
            "text/html": [
              "<script src='https://cdnjs.cloudflare.com/ajax/libs/mathjax/2.7.3/latest.js?config=default'></script>"
            ],
            "text/plain": [
              "<IPython.core.display.HTML object>"
            ]
          },
          "metadata": {
            "tags": []
          }
        },
        {
          "output_type": "execute_result",
          "data": {
            "text/latex": "$$P D P^{-1} = \\left[\\begin{matrix}-2 & -3 & 2\\\\-1 & 0 & 2\\\\- \\frac{3}{2} & - \\frac{3}{2} & 2\\end{matrix}\\right]$$",
            "text/plain": [
              "          ⎡ -2    -3   2⎤\n",
              "     -1   ⎢             ⎥\n",
              "P⋅D⋅P   = ⎢ -1    0    2⎥\n",
              "          ⎢             ⎥\n",
              "          ⎣-3/2  -3/2  2⎦"
            ]
          },
          "metadata": {
            "tags": []
          },
          "execution_count": 18
        }
      ]
    },
    {
      "metadata": {
        "id": "kcXBJ9aXand6",
        "colab_type": "code",
        "outputId": "6daa388e-a841-4f21-cb28-f2717cacefda",
        "colab": {
          "base_uri": "https://localhost:8080/",
          "height": 66
        }
      },
      "cell_type": "code",
      "source": [
        "expand(lamda + lamda(2*lamda+1)-2*(lamda+2)*lamda+6)"
      ],
      "execution_count": 19,
      "outputs": [
        {
          "output_type": "display_data",
          "data": {
            "text/html": [
              "<script src='https://cdnjs.cloudflare.com/ajax/libs/mathjax/2.7.3/latest.js?config=default'></script>"
            ],
            "text/plain": [
              "<IPython.core.display.HTML object>"
            ]
          },
          "metadata": {
            "tags": []
          }
        },
        {
          "output_type": "execute_result",
          "data": {
            "text/latex": "$$- 2 \\lambda^{2} - 3 \\lambda + \\lambda{\\left (2 \\lambda + 1 \\right )} + 6$$",
            "text/plain": [
              "     2                       \n",
              "- 2⋅λ  - 3⋅λ + λ(2⋅λ + 1) + 6"
            ]
          },
          "metadata": {
            "tags": []
          },
          "execution_count": 19
        }
      ]
    },
    {
      "metadata": {
        "id": "ExzGgthaaneA",
        "colab_type": "code",
        "colab": {}
      },
      "cell_type": "code",
      "source": [
        ""
      ],
      "execution_count": 0,
      "outputs": []
    }
  ]
}