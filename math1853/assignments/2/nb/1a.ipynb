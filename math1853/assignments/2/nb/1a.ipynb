{
 "cells": [
  {
   "cell_type": "code",
   "execution_count": 2,
   "metadata": {},
   "outputs": [
    {
     "data": {
      "text/latex": [
       "$$\\left[\\begin{matrix}a + \\sqrt{a^{2} + b^{2}} & b\\\\b & - a + \\sqrt{a^{2} + b^{2}}\\end{matrix}\\right]$$"
      ],
      "text/plain": [
       "⎡       _________                   ⎤\n",
       "⎢      ╱  2    2                    ⎥\n",
       "⎢a + ╲╱  a  + b            b        ⎥\n",
       "⎢                                   ⎥\n",
       "⎢                          _________⎥\n",
       "⎢                         ╱  2    2 ⎥\n",
       "⎣       b          -a + ╲╱  a  + b  ⎦"
      ]
     },
     "execution_count": 2,
     "metadata": {},
     "output_type": "execute_result"
    }
   ],
   "source": [
    "from sympy import *\n",
    "from sympy.solvers.solveset import linsolve\n",
    "init_printing(use_latex='mathjax')\n",
    "lamda,a,b = symbols('lambda a b')\n",
    "A = Matrix([[a,b],[b,-a]])\n",
    "lamda1,lamda2 = A.eigenvals().keys()\n",
    "M1 = A-lamda1*eye(2)\n",
    "M1"
   ]
  },
  {
   "cell_type": "code",
   "execution_count": 3,
   "metadata": {},
   "outputs": [
    {
     "data": {
      "text/latex": [
       "$$\\frac{b}{a + \\sqrt{a^{2} + b^{2}}}$$"
      ],
      "text/plain": [
       "       b        \n",
       "────────────────\n",
       "       _________\n",
       "      ╱  2    2 \n",
       "a + ╲╱  a  + b  "
      ]
     },
     "execution_count": 3,
     "metadata": {},
     "output_type": "execute_result"
    }
   ],
   "source": [
    "M1.row(0)[1]/M1.row(0)[0]"
   ]
  },
  {
   "cell_type": "code",
   "execution_count": 4,
   "metadata": {},
   "outputs": [
    {
     "data": {
      "text/latex": [
       "$$\\frac{- a + \\sqrt{a^{2} + b^{2}}}{b}$$"
      ],
      "text/plain": [
       "        _________\n",
       "       ╱  2    2 \n",
       "-a + ╲╱  a  + b  \n",
       "─────────────────\n",
       "        b        "
      ]
     },
     "execution_count": 4,
     "metadata": {},
     "output_type": "execute_result"
    }
   ],
   "source": [
    "M1.row(1)[1]/M1.row(1)[0]"
   ]
  },
  {
   "cell_type": "code",
   "execution_count": 5,
   "metadata": {},
   "outputs": [
    {
     "data": {
      "text/latex": [
       "$$\\frac{b}{a + \\sqrt{a^{2} + b^{2}}} - \\frac{- a + \\sqrt{a^{2} + b^{2}}}{b}$$"
      ],
      "text/plain": [
       "                           _________\n",
       "                          ╱  2    2 \n",
       "       b           -a + ╲╱  a  + b  \n",
       "──────────────── - ─────────────────\n",
       "       _________           b        \n",
       "      ╱  2    2                     \n",
       "a + ╲╱  a  + b                      "
      ]
     },
     "execution_count": 5,
     "metadata": {},
     "output_type": "execute_result"
    }
   ],
   "source": [
    "M1.row(0)[1]/M1.row(0)[0]-M1.row(1)[1]/M1.row(1)[0]"
   ]
  },
  {
   "cell_type": "code",
   "execution_count": 6,
   "metadata": {},
   "outputs": [
    {
     "data": {
      "text/latex": [
       "$$\\frac{b}{a + \\sqrt{a^{2} + b^{2}}} - \\frac{- a + \\sqrt{a^{2} + b^{2}}}{b}$$"
      ],
      "text/plain": [
       "                           _________\n",
       "                          ╱  2    2 \n",
       "       b           -a + ╲╱  a  + b  \n",
       "──────────────── - ─────────────────\n",
       "       _________           b        \n",
       "      ╱  2    2                     \n",
       "a + ╲╱  a  + b                      "
      ]
     },
     "execution_count": 6,
     "metadata": {},
     "output_type": "execute_result"
    }
   ],
   "source": [
    "(M1.row(0)[1]*M1.row(1)[1])/(M1.row(0)[0]*M1.row(1)[1])-M1.row(1)[1]/M1.row(1)[0]"
   ]
  },
  {
   "cell_type": "code",
   "execution_count": 7,
   "metadata": {},
   "outputs": [
    {
     "data": {
      "text/latex": [
       "$$\\left ( \\left[\\begin{matrix}1 & \\frac{b}{a + \\sqrt{a^{2} + b^{2}}}\\\\0 & 0\\end{matrix}\\right], \\quad \\left ( 0\\right )\\right )$$"
      ],
      "text/plain": [
       "⎛⎡          b        ⎤      ⎞\n",
       "⎜⎢1  ────────────────⎥      ⎟\n",
       "⎜⎢          _________⎥      ⎟\n",
       "⎜⎢         ╱  2    2 ⎥, (0,)⎟\n",
       "⎜⎢   a + ╲╱  a  + b  ⎥      ⎟\n",
       "⎜⎢                   ⎥      ⎟\n",
       "⎝⎣0         0        ⎦      ⎠"
      ]
     },
     "execution_count": 7,
     "metadata": {},
     "output_type": "execute_result"
    }
   ],
   "source": [
    "M1.rref()"
   ]
  },
  {
   "cell_type": "code",
   "execution_count": 8,
   "metadata": {},
   "outputs": [
    {
     "data": {
      "text/latex": [
       "$$\\left[\\begin{matrix}a - \\sqrt{a^{2} + b^{2}} & b\\\\b & - a - \\sqrt{a^{2} + b^{2}}\\end{matrix}\\right]$$"
      ],
      "text/plain": [
       "⎡       _________                   ⎤\n",
       "⎢      ╱  2    2                    ⎥\n",
       "⎢a - ╲╱  a  + b            b        ⎥\n",
       "⎢                                   ⎥\n",
       "⎢                          _________⎥\n",
       "⎢                         ╱  2    2 ⎥\n",
       "⎣       b          -a - ╲╱  a  + b  ⎦"
      ]
     },
     "execution_count": 8,
     "metadata": {},
     "output_type": "execute_result"
    }
   ],
   "source": [
    "M2=A-lamda2*eye(2)\n",
    "M2"
   ]
  },
  {
   "cell_type": "code",
   "execution_count": 9,
   "metadata": {},
   "outputs": [
    {
     "data": {
      "text/latex": [
       "$$\\left ( \\left[\\begin{matrix}1 & \\frac{b}{a - \\sqrt{a^{2} + b^{2}}}\\\\0 & 0\\end{matrix}\\right], \\quad \\left ( 0\\right )\\right )$$"
      ],
      "text/plain": [
       "⎛⎡          b        ⎤      ⎞\n",
       "⎜⎢1  ────────────────⎥      ⎟\n",
       "⎜⎢          _________⎥      ⎟\n",
       "⎜⎢         ╱  2    2 ⎥, (0,)⎟\n",
       "⎜⎢   a - ╲╱  a  + b  ⎥      ⎟\n",
       "⎜⎢                   ⎥      ⎟\n",
       "⎝⎣0         0        ⎦      ⎠"
      ]
     },
     "execution_count": 9,
     "metadata": {},
     "output_type": "execute_result"
    }
   ],
   "source": [
    "M2.rref()"
   ]
  },
  {
   "cell_type": "code",
   "execution_count": 10,
   "metadata": {},
   "outputs": [
    {
     "data": {
      "text/latex": [
       "$$\\frac{- a - \\sqrt{a^{2} + b^{2}}}{b}$$"
      ],
      "text/plain": [
       "        _________\n",
       "       ╱  2    2 \n",
       "-a - ╲╱  a  + b  \n",
       "─────────────────\n",
       "        b        "
      ]
     },
     "execution_count": 10,
     "metadata": {},
     "output_type": "execute_result"
    }
   ],
   "source": [
    "radsimp(M2.rref()[0].row(0)[1])"
   ]
  },
  {
   "cell_type": "code",
   "execution_count": 11,
   "metadata": {},
   "outputs": [
    {
     "data": {
      "text/latex": [
       "$$\\left\\{\\left ( - \\frac{b x_{2}}{a + \\sqrt{a^{2} + b^{2}}}, \\quad x_{2}\\right )\\right\\}$$"
      ],
      "text/plain": [
       "⎧⎛     -b⋅x₂          ⎞⎫\n",
       "⎪⎜────────────────, x₂⎟⎪\n",
       "⎨⎜       _________    ⎟⎬\n",
       "⎪⎜      ╱  2    2     ⎟⎪\n",
       "⎩⎝a + ╲╱  a  + b      ⎠⎭"
      ]
     },
     "execution_count": 11,
     "metadata": {},
     "output_type": "execute_result"
    }
   ],
   "source": [
    "x1,x2=symbols('x_1 x_2')\n",
    "linsolve(M1.col_insert(2,Matrix([0,0])),[x1,x2])"
   ]
  },
  {
   "cell_type": "code",
   "execution_count": 12,
   "metadata": {},
   "outputs": [
    {
     "data": {
      "text/latex": [
       "$$\\frac{a y_{2} + y_{2} \\sqrt{a^{2} + b^{2}}}{b}$$"
      ],
      "text/plain": [
       "             _________\n",
       "            ╱  2    2 \n",
       "a⋅y₂ + y₂⋅╲╱  a  + b  \n",
       "──────────────────────\n",
       "          b           "
      ]
     },
     "execution_count": 12,
     "metadata": {},
     "output_type": "execute_result"
    }
   ],
   "source": [
    "y1,y2=symbols('y_1 y_2')\n",
    "radsimp(list(linsolve(M2.col_insert(2,Matrix([0,0])),[y1,y2]))[0][0])"
   ]
  }
 ],
 "metadata": {
  "kernelspec": {
   "display_name": "Python 3",
   "language": "python",
   "name": "python3"
  },
  "language_info": {
   "codemirror_mode": {
    "name": "ipython",
    "version": 3
   },
   "file_extension": ".py",
   "mimetype": "text/x-python",
   "name": "python",
   "nbconvert_exporter": "python",
   "pygments_lexer": "ipython3",
   "version": "3.7.0"
  }
 },
 "nbformat": 4,
 "nbformat_minor": 2
}
