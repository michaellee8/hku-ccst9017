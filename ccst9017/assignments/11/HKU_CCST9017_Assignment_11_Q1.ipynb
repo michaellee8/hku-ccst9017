{
  "nbformat": 4,
  "nbformat_minor": 0,
  "metadata": {
    "colab": {
      "name": "HKU CCST9017 Assignment 11 Q1.ipynb",
      "version": "0.3.2",
      "provenance": [],
      "include_colab_link": true
    },
    "kernelspec": {
      "name": "python3",
      "display_name": "Python 3"
    }
  },
  "cells": [
    {
      "cell_type": "markdown",
      "metadata": {
        "id": "view-in-github",
        "colab_type": "text"
      },
      "source": [
        "<a href=\"https://colab.research.google.com/github/michaellee8/hku-ccst9017/blob/master/ccst9017/assignments/11/HKU_CCST9017_Assignment_11_Q1.ipynb\" target=\"_parent\"><img src=\"https://colab.research.google.com/assets/colab-badge.svg\" alt=\"Open In Colab\"/></a>"
      ]
    },
    {
      "metadata": {
        "id": "5YupquOMcIbb",
        "colab_type": "text"
      },
      "cell_type": "markdown",
      "source": [
        "# HKU CCST9017 Assignment 11 Q1"
      ]
    },
    {
      "metadata": {
        "id": "qdgTXDVZcGu0",
        "colab_type": "code",
        "colab": {}
      },
      "cell_type": "code",
      "source": [
        "# Initialize environment\n",
        "import os\n",
        "from sympy import *\n",
        "import sympy \n",
        "# from google.colab.output._publish import javascript\n",
        "# url = \"https://cdnjs.cloudflare.com/ajax/libs/mathjax/2.7.3/latest.js?config=default\"\n",
        "# javascript(url=url)\n",
        "if \"DATALAB_SETTINGS_OVERRIDES\" in os.environ:\n",
        "    def custom_latex_printer(exp,**options):\n",
        "        from google.colab.output._publish import javascript\n",
        "        url = \"https://cdnjs.cloudflare.com/ajax/libs/mathjax/2.7.3/latest.js?config=default\"\n",
        "        javascript(url=url)\n",
        "        return sympy.printing.latex(exp,**options)\n",
        "    init_printing(use_latex=\"mathjax\",latex_printer=custom_latex_printer)\n",
        "#     !pip install sympy\n",
        "else:\n",
        "  init_printing()\n"
      ],
      "execution_count": 0,
      "outputs": []
    },
    {
      "metadata": {
        "id": "Cfya55G4cO19",
        "colab_type": "code",
        "colab": {
          "base_uri": "https://localhost:8080/",
          "height": 156
        },
        "outputId": "cb2ffbb0-b561-4d8b-ea42-ef566cdc8cb5"
      },
      "cell_type": "code",
      "source": [
        "initial_four_page_link_matrix = Matrix([[0,0,1,Rational(1,2)],[Rational(1,3),0,0,0],[Rational(1,3),Rational(1,2),0,Rational(1,2)],[Rational(1,3),Rational(1,2),0,0]])\n",
        "initial_four_page_link_matrix"
      ],
      "execution_count": 111,
      "outputs": [
        {
          "output_type": "display_data",
          "data": {
            "text/html": [
              "<script src='https://cdnjs.cloudflare.com/ajax/libs/mathjax/2.7.3/latest.js?config=default'></script>"
            ],
            "text/plain": [
              "<IPython.core.display.HTML object>"
            ]
          },
          "metadata": {
            "tags": []
          }
        },
        {
          "output_type": "execute_result",
          "data": {
            "text/latex": "$$\\left[\\begin{matrix}0 & 0 & 1 & \\frac{1}{2}\\\\\\frac{1}{3} & 0 & 0 & 0\\\\\\frac{1}{3} & \\frac{1}{2} & 0 & \\frac{1}{2}\\\\\\frac{1}{3} & \\frac{1}{2} & 0 & 0\\end{matrix}\\right]$$",
            "text/plain": [
              "⎡ 0    0   1  1/2⎤\n",
              "⎢                ⎥\n",
              "⎢1/3   0   0   0 ⎥\n",
              "⎢                ⎥\n",
              "⎢1/3  1/2  0  1/2⎥\n",
              "⎢                ⎥\n",
              "⎣1/3  1/2  0   0 ⎦"
            ]
          },
          "metadata": {
            "tags": []
          },
          "execution_count": 111
        }
      ]
    },
    {
      "metadata": {
        "id": "pQfOGiFQeCUX",
        "colab_type": "code",
        "colab": {
          "base_uri": "https://localhost:8080/",
          "height": 136
        },
        "outputId": "8d31c64a-f44d-48c6-898f-aba7d877a6fe"
      },
      "cell_type": "code",
      "source": [
        "four_page_matrix = Matrix([[1],[1],[1],[1]])\n",
        "four_page_matrix"
      ],
      "execution_count": 112,
      "outputs": [
        {
          "output_type": "display_data",
          "data": {
            "text/html": [
              "<script src='https://cdnjs.cloudflare.com/ajax/libs/mathjax/2.7.3/latest.js?config=default'></script>"
            ],
            "text/plain": [
              "<IPython.core.display.HTML object>"
            ]
          },
          "metadata": {
            "tags": []
          }
        },
        {
          "output_type": "execute_result",
          "data": {
            "text/latex": "$$\\left[\\begin{matrix}1\\\\1\\\\1\\\\1\\end{matrix}\\right]$$",
            "text/plain": [
              "⎡1⎤\n",
              "⎢ ⎥\n",
              "⎢1⎥\n",
              "⎢ ⎥\n",
              "⎢1⎥\n",
              "⎢ ⎥\n",
              "⎣1⎦"
            ]
          },
          "metadata": {
            "tags": []
          },
          "execution_count": 112
        }
      ]
    },
    {
      "metadata": {
        "id": "F1zkdNconp9W",
        "colab_type": "code",
        "colab": {
          "base_uri": "https://localhost:8080/",
          "height": 156
        },
        "outputId": "6e1b799d-244e-4913-c6b7-ae53689308a7"
      },
      "cell_type": "code",
      "source": [
        "for i in range(1):\n",
        "  four_page_matrix = initial_four_page_link_matrix  * four_page_matrix\n",
        "  \n",
        "(four_page_matrix)"
      ],
      "execution_count": 113,
      "outputs": [
        {
          "output_type": "display_data",
          "data": {
            "text/html": [
              "<script src='https://cdnjs.cloudflare.com/ajax/libs/mathjax/2.7.3/latest.js?config=default'></script>"
            ],
            "text/plain": [
              "<IPython.core.display.HTML object>"
            ]
          },
          "metadata": {
            "tags": []
          }
        },
        {
          "output_type": "execute_result",
          "data": {
            "text/latex": "$$\\left[\\begin{matrix}\\frac{3}{2}\\\\\\frac{1}{3}\\\\\\frac{4}{3}\\\\\\frac{5}{6}\\end{matrix}\\right]$$",
            "text/plain": [
              "⎡3/2⎤\n",
              "⎢   ⎥\n",
              "⎢1/3⎥\n",
              "⎢   ⎥\n",
              "⎢4/3⎥\n",
              "⎢   ⎥\n",
              "⎣5/6⎦"
            ]
          },
          "metadata": {
            "tags": []
          },
          "execution_count": 113
        }
      ]
    },
    {
      "metadata": {
        "id": "VOktcOaBeWH7",
        "colab_type": "code",
        "colab": {
          "base_uri": "https://localhost:8080/",
          "height": 136
        },
        "outputId": "f3eb23af-50c9-4804-d5df-1a490e14eda6"
      },
      "cell_type": "code",
      "source": [
        "for i in range(99):\n",
        "  four_page_matrix = initial_four_page_link_matrix  * four_page_matrix\n",
        "  \n",
        "N(four_page_matrix)"
      ],
      "execution_count": 114,
      "outputs": [
        {
          "output_type": "display_data",
          "data": {
            "text/html": [
              "<script src='https://cdnjs.cloudflare.com/ajax/libs/mathjax/2.7.3/latest.js?config=default'></script>"
            ],
            "text/plain": [
              "<IPython.core.display.HTML object>"
            ]
          },
          "metadata": {
            "tags": []
          }
        },
        {
          "output_type": "execute_result",
          "data": {
            "text/latex": "$$\\left[\\begin{matrix}1.54838709677419\\\\0.516129032258065\\\\1.16129032258065\\\\0.774193548387097\\end{matrix}\\right]$$",
            "text/plain": [
              "⎡1.54838709677419 ⎤\n",
              "⎢                 ⎥\n",
              "⎢0.516129032258065⎥\n",
              "⎢                 ⎥\n",
              "⎢1.16129032258065 ⎥\n",
              "⎢                 ⎥\n",
              "⎣0.774193548387097⎦"
            ]
          },
          "metadata": {
            "tags": []
          },
          "execution_count": 114
        }
      ]
    },
    {
      "metadata": {
        "id": "v-k61jCtiKFm",
        "colab_type": "code",
        "colab": {
          "base_uri": "https://localhost:8080/",
          "height": 185
        },
        "outputId": "8a45062c-fad4-4d5d-f07a-c6fabc375742"
      },
      "cell_type": "code",
      "source": [
        "initial_five_page_link_matrix = Matrix([[0,0,Rational(1,2),Rational(1,2),0],\n",
        "                                        [Rational(1,3),0,0,0,0],\n",
        "                                        [Rational(1,3),Rational(1,2),0,Rational(1,2),1],\n",
        "                                        [Rational(1,3),Rational(1,2),0,0,0],\n",
        "                                        [0,0,Rational(1,2),0,0]\n",
        "                                       ])\n",
        "initial_five_page_link_matrix"
      ],
      "execution_count": 115,
      "outputs": [
        {
          "output_type": "display_data",
          "data": {
            "text/html": [
              "<script src='https://cdnjs.cloudflare.com/ajax/libs/mathjax/2.7.3/latest.js?config=default'></script>"
            ],
            "text/plain": [
              "<IPython.core.display.HTML object>"
            ]
          },
          "metadata": {
            "tags": []
          }
        },
        {
          "output_type": "execute_result",
          "data": {
            "text/latex": "$$\\left[\\begin{matrix}0 & 0 & \\frac{1}{2} & \\frac{1}{2} & 0\\\\\\frac{1}{3} & 0 & 0 & 0 & 0\\\\\\frac{1}{3} & \\frac{1}{2} & 0 & \\frac{1}{2} & 1\\\\\\frac{1}{3} & \\frac{1}{2} & 0 & 0 & 0\\\\0 & 0 & \\frac{1}{2} & 0 & 0\\end{matrix}\\right]$$",
            "text/plain": [
              "⎡ 0    0   1/2  1/2  0⎤\n",
              "⎢                     ⎥\n",
              "⎢1/3   0    0    0   0⎥\n",
              "⎢                     ⎥\n",
              "⎢1/3  1/2   0   1/2  1⎥\n",
              "⎢                     ⎥\n",
              "⎢1/3  1/2   0    0   0⎥\n",
              "⎢                     ⎥\n",
              "⎣ 0    0   1/2   0   0⎦"
            ]
          },
          "metadata": {
            "tags": []
          },
          "execution_count": 115
        }
      ]
    },
    {
      "metadata": {
        "id": "3A7UvTGrk9SQ",
        "colab_type": "code",
        "colab": {
          "base_uri": "https://localhost:8080/",
          "height": 160
        },
        "outputId": "0bc37431-a463-4c6f-8ef1-f3996c17c136"
      },
      "cell_type": "code",
      "source": [
        "five_page_matrix = Matrix([[1],[1],[1],[1],[1]])\n",
        "five_page_matrix"
      ],
      "execution_count": 116,
      "outputs": [
        {
          "output_type": "display_data",
          "data": {
            "text/html": [
              "<script src='https://cdnjs.cloudflare.com/ajax/libs/mathjax/2.7.3/latest.js?config=default'></script>"
            ],
            "text/plain": [
              "<IPython.core.display.HTML object>"
            ]
          },
          "metadata": {
            "tags": []
          }
        },
        {
          "output_type": "execute_result",
          "data": {
            "text/latex": "$$\\left[\\begin{matrix}1\\\\1\\\\1\\\\1\\\\1\\end{matrix}\\right]$$",
            "text/plain": [
              "⎡1⎤\n",
              "⎢ ⎥\n",
              "⎢1⎥\n",
              "⎢ ⎥\n",
              "⎢1⎥\n",
              "⎢ ⎥\n",
              "⎢1⎥\n",
              "⎢ ⎥\n",
              "⎣1⎦"
            ]
          },
          "metadata": {
            "tags": []
          },
          "execution_count": 116
        }
      ]
    },
    {
      "metadata": {
        "id": "ouvg6_ZHnwYB",
        "colab_type": "code",
        "colab": {
          "base_uri": "https://localhost:8080/",
          "height": 180
        },
        "outputId": "ec37958f-2650-4edf-e896-b206e9f50b16"
      },
      "cell_type": "code",
      "source": [
        "for i in range(1):\n",
        "  five_page_matrix = initial_five_page_link_matrix  * five_page_matrix\n",
        "  \n",
        "(five_page_matrix)"
      ],
      "execution_count": 117,
      "outputs": [
        {
          "output_type": "display_data",
          "data": {
            "text/html": [
              "<script src='https://cdnjs.cloudflare.com/ajax/libs/mathjax/2.7.3/latest.js?config=default'></script>"
            ],
            "text/plain": [
              "<IPython.core.display.HTML object>"
            ]
          },
          "metadata": {
            "tags": []
          }
        },
        {
          "output_type": "execute_result",
          "data": {
            "text/latex": "$$\\left[\\begin{matrix}1\\\\\\frac{1}{3}\\\\\\frac{7}{3}\\\\\\frac{5}{6}\\\\\\frac{1}{2}\\end{matrix}\\right]$$",
            "text/plain": [
              "⎡ 1 ⎤\n",
              "⎢   ⎥\n",
              "⎢1/3⎥\n",
              "⎢   ⎥\n",
              "⎢7/3⎥\n",
              "⎢   ⎥\n",
              "⎢5/6⎥\n",
              "⎢   ⎥\n",
              "⎣1/2⎦"
            ]
          },
          "metadata": {
            "tags": []
          },
          "execution_count": 117
        }
      ]
    },
    {
      "metadata": {
        "id": "hGSonU5tlDTj",
        "colab_type": "code",
        "colab": {
          "base_uri": "https://localhost:8080/",
          "height": 160
        },
        "outputId": "711fc0a9-8abf-4b00-df8c-15c34d7bf289"
      },
      "cell_type": "code",
      "source": [
        "for i in range(99):\n",
        "  five_page_matrix = initial_five_page_link_matrix  * five_page_matrix\n",
        "  \n",
        "N(five_page_matrix)"
      ],
      "execution_count": 118,
      "outputs": [
        {
          "output_type": "display_data",
          "data": {
            "text/html": [
              "<script src='https://cdnjs.cloudflare.com/ajax/libs/mathjax/2.7.3/latest.js?config=default'></script>"
            ],
            "text/plain": [
              "<IPython.core.display.HTML object>"
            ]
          },
          "metadata": {
            "tags": []
          }
        },
        {
          "output_type": "execute_result",
          "data": {
            "text/latex": "$$\\left[\\begin{matrix}1.22448979591837\\\\0.408163265306121\\\\1.83673469387755\\\\0.612244897959183\\\\0.918367346938778\\end{matrix}\\right]$$",
            "text/plain": [
              "⎡1.22448979591837 ⎤\n",
              "⎢                 ⎥\n",
              "⎢0.408163265306121⎥\n",
              "⎢                 ⎥\n",
              "⎢1.83673469387755 ⎥\n",
              "⎢                 ⎥\n",
              "⎢0.612244897959183⎥\n",
              "⎢                 ⎥\n",
              "⎣0.918367346938778⎦"
            ]
          },
          "metadata": {
            "tags": []
          },
          "execution_count": 118
        }
      ]
    },
    {
      "metadata": {
        "id": "sZouqjMpm1Pi",
        "colab_type": "code",
        "colab": {}
      },
      "cell_type": "code",
      "source": [
        ""
      ],
      "execution_count": 0,
      "outputs": []
    }
  ]
}