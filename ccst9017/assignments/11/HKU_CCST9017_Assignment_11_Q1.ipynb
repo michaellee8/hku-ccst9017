{
  "nbformat": 4,
  "nbformat_minor": 0,
  "metadata": {
    "colab": {
      "name": "HKU CCST9017 Assignment 11 Q1.ipynb",
      "version": "0.3.2",
      "provenance": [],
      "include_colab_link": true
    },
    "kernelspec": {
      "name": "python3",
      "display_name": "Python 3"
    }
  },
  "cells": [
    {
      "cell_type": "markdown",
      "metadata": {
        "id": "view-in-github",
        "colab_type": "text"
      },
      "source": [
        "<a href=\"https://colab.research.google.com/github/michaellee8/hku-ccst9017/blob/master/ccst9017/assignments/11/HKU_CCST9017_Assignment_11_Q1.ipynb\" target=\"_parent\"><img src=\"https://colab.research.google.com/assets/colab-badge.svg\" alt=\"Open In Colab\"/></a>"
      ]
    },
    {
      "metadata": {
        "id": "5YupquOMcIbb",
        "colab_type": "text"
      },
      "cell_type": "markdown",
      "source": [
        "# HKU CCST9017 Assignment 11 Q1"
      ]
    },
    {
      "metadata": {
        "id": "qdgTXDVZcGu0",
        "colab_type": "code",
        "colab": {}
      },
      "cell_type": "code",
      "source": [
        "# Initialize environment\n",
        "import os\n",
        "from sympy import *\n",
        "import sympy \n",
        "# from google.colab.output._publish import javascript\n",
        "# url = \"https://cdnjs.cloudflare.com/ajax/libs/mathjax/2.7.3/latest.js?config=default\"\n",
        "# javascript(url=url)\n",
        "if \"DATALAB_SETTINGS_OVERRIDES\" in os.environ:\n",
        "    def custom_latex_printer(exp,**options):\n",
        "        from google.colab.output._publish import javascript\n",
        "        url = \"https://cdnjs.cloudflare.com/ajax/libs/mathjax/2.7.3/latest.js?config=default\"\n",
        "        javascript(url=url)\n",
        "        return sympy.printing.latex(exp,**options)\n",
        "    init_printing(use_latex=\"mathjax\",latex_printer=custom_latex_printer)\n",
        "#     !pip install sympy\n",
        "else:\n",
        "  init_printing()\n"
      ],
      "execution_count": 0,
      "outputs": []
    },
    {
      "metadata": {
        "id": "Cfya55G4cO19",
        "colab_type": "code",
        "colab": {
          "base_uri": "https://localhost:8080/",
          "height": 156
        },
        "outputId": "94fbd6de-9630-4f70-de4d-dbbe8f00d6ae"
      },
      "cell_type": "code",
      "source": [
        "initial_four_page_link_matrix = Matrix([[0,0,1,Rational(1,2)],[Rational(1,3),0,0,0],[Rational(1,3),Rational(1,2),0,Rational(1,2)],[Rational(1,3),Rational(1,2),0,0]])\n",
        "initial_four_page_link_matrix"
      ],
      "execution_count": 40,
      "outputs": [
        {
          "output_type": "display_data",
          "data": {
            "text/html": [
              "<script src='https://cdnjs.cloudflare.com/ajax/libs/mathjax/2.7.3/latest.js?config=default'></script>"
            ],
            "text/plain": [
              "<IPython.core.display.HTML object>"
            ]
          },
          "metadata": {
            "tags": []
          }
        },
        {
          "output_type": "execute_result",
          "data": {
            "text/latex": "$$\\left[\\begin{matrix}0 & 0 & 1 & \\frac{1}{2}\\\\\\frac{1}{3} & 0 & 0 & 0\\\\\\frac{1}{3} & \\frac{1}{2} & 0 & \\frac{1}{2}\\\\\\frac{1}{3} & \\frac{1}{2} & 0 & 0\\end{matrix}\\right]$$",
            "text/plain": [
              "⎡ 0    0   1  1/2⎤\n",
              "⎢                ⎥\n",
              "⎢1/3   0   0   0 ⎥\n",
              "⎢                ⎥\n",
              "⎢1/3  1/2  0  1/2⎥\n",
              "⎢                ⎥\n",
              "⎣1/3  1/2  0   0 ⎦"
            ]
          },
          "metadata": {
            "tags": []
          },
          "execution_count": 40
        }
      ]
    },
    {
      "metadata": {
        "id": "pQfOGiFQeCUX",
        "colab_type": "code",
        "colab": {
          "base_uri": "https://localhost:8080/",
          "height": 136
        },
        "outputId": "731daddd-fb93-4ab8-c629-c03cc93ca0b6"
      },
      "cell_type": "code",
      "source": [
        "four_page_matrix = Matrix([[1],[1],[1],[1]])\n",
        "four_page_matrix"
      ],
      "execution_count": 41,
      "outputs": [
        {
          "output_type": "display_data",
          "data": {
            "text/html": [
              "<script src='https://cdnjs.cloudflare.com/ajax/libs/mathjax/2.7.3/latest.js?config=default'></script>"
            ],
            "text/plain": [
              "<IPython.core.display.HTML object>"
            ]
          },
          "metadata": {
            "tags": []
          }
        },
        {
          "output_type": "execute_result",
          "data": {
            "text/latex": "$$\\left[\\begin{matrix}1\\\\1\\\\1\\\\1\\end{matrix}\\right]$$",
            "text/plain": [
              "⎡1⎤\n",
              "⎢ ⎥\n",
              "⎢1⎥\n",
              "⎢ ⎥\n",
              "⎢1⎥\n",
              "⎢ ⎥\n",
              "⎣1⎦"
            ]
          },
          "metadata": {
            "tags": []
          },
          "execution_count": 41
        }
      ]
    },
    {
      "metadata": {
        "id": "VOktcOaBeWH7",
        "colab_type": "code",
        "colab": {
          "base_uri": "https://localhost:8080/",
          "height": 136
        },
        "outputId": "a9605666-af65-4a82-db7a-32bed1554e26"
      },
      "cell_type": "code",
      "source": [
        "for i in range(100):\n",
        "  four_page_matrix = initial_four_page_link_matrix  * four_page_matrix\n",
        "  \n",
        "N(four_page_matrix)"
      ],
      "execution_count": 42,
      "outputs": [
        {
          "output_type": "display_data",
          "data": {
            "text/html": [
              "<script src='https://cdnjs.cloudflare.com/ajax/libs/mathjax/2.7.3/latest.js?config=default'></script>"
            ],
            "text/plain": [
              "<IPython.core.display.HTML object>"
            ]
          },
          "metadata": {
            "tags": []
          }
        },
        {
          "output_type": "execute_result",
          "data": {
            "text/latex": "$$\\left[\\begin{matrix}1.54838709677419\\\\0.516129032258065\\\\1.16129032258065\\\\0.774193548387097\\end{matrix}\\right]$$",
            "text/plain": [
              "⎡1.54838709677419 ⎤\n",
              "⎢                 ⎥\n",
              "⎢0.516129032258065⎥\n",
              "⎢                 ⎥\n",
              "⎢1.16129032258065 ⎥\n",
              "⎢                 ⎥\n",
              "⎣0.774193548387097⎦"
            ]
          },
          "metadata": {
            "tags": []
          },
          "execution_count": 42
        }
      ]
    }
  ]
}